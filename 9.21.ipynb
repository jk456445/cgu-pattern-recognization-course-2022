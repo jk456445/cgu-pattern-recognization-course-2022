{
 "cells": [
  {
   "cell_type": "code",
   "execution_count": 6,
   "id": "8be74960",
   "metadata": {},
   "outputs": [],
   "source": [
    "import numpy as np\n",
    "import tensorflow as tf\n",
    "import tensorflow.keras as keras"
   ]
  },
  {
   "cell_type": "code",
   "execution_count": 7,
   "id": "a483b510",
   "metadata": {},
   "outputs": [],
   "source": [
    "(xr,yr), (xt,yt)= keras.datasets.mnist.load_data()"
   ]
  },
  {
   "cell_type": "code",
   "execution_count": 9,
   "id": "86c12348",
   "metadata": {},
   "outputs": [
    {
     "data": {
      "text/plain": [
       "((60000, 28, 28), (60000,), (10000, 28, 28), (10000,))"
      ]
     },
     "execution_count": 9,
     "metadata": {},
     "output_type": "execute_result"
    }
   ],
   "source": [
    "xr.shape, yr.shape, xt.shape, yt.shape\n",
    "#每個的形狀 因為y的都是label所以就一維"
   ]
  },
  {
   "cell_type": "code",
   "execution_count": 11,
   "id": "7ea03fe9",
   "metadata": {},
   "outputs": [
    {
     "name": "stdout",
     "output_type": "stream",
     "text": [
      "  0  0  0  0  0  0  0  0  0  0  0  0  0  0  0  0  0  0  0  0  0  0  0  0  0  0  0  0\n",
      "  0  0  0  0  0  0  0  0  0  0  0  0  0  0  0  0  0  0  0  0  0  0  0  0  0  0  0  0\n",
      "  0  0  0  0  0  0  0  0  0  0  0  0  0  0  0  0  0  0  0  0  0  0  0  0  0  0  0  0\n",
      "  0  0  0  0  0  0  0  0  0  0  0  0  0  0  0  0  0  0  0  0  0  0  0  0  0  0  0  0\n",
      "  0  0  0  0  0  0  0  0  0  0  0  0  0  0  0  0  0  0  0  0  0  0  0  0  0  0  0  0\n",
      "  0  0  0  0  0  0  0  0  0  0  0  0  3 18 18 18126136175 26166255247127  0  0  0  0\n",
      "  0  0  0  0  0  0  0  0 30 36 94154170253253253253253225172253242195 64  0  0  0  0\n",
      "  0  0  0  0  0  0  0 49238253253253253253253253253251 93 82 82 56 39  0  0  0  0  0\n",
      "  0  0  0  0  0  0  0 18219253253253253253198182247241  0  0  0  0  0  0  0  0  0  0\n",
      "  0  0  0  0  0  0  0  0 80156107253253205 11  0 43154  0  0  0  0  0  0  0  0  0  0\n",
      "  0  0  0  0  0  0  0  0  0 14  1154253 90  0  0  0  0  0  0  0  0  0  0  0  0  0  0\n",
      "  0  0  0  0  0  0  0  0  0  0  0139253190  2  0  0  0  0  0  0  0  0  0  0  0  0  0\n",
      "  0  0  0  0  0  0  0  0  0  0  0 11190253 70  0  0  0  0  0  0  0  0  0  0  0  0  0\n",
      "  0  0  0  0  0  0  0  0  0  0  0  0 35241225160108  1  0  0  0  0  0  0  0  0  0  0\n",
      "  0  0  0  0  0  0  0  0  0  0  0  0  0 81240253253119 25  0  0  0  0  0  0  0  0  0\n",
      "  0  0  0  0  0  0  0  0  0  0  0  0  0  0 45186253253150 27  0  0  0  0  0  0  0  0\n",
      "  0  0  0  0  0  0  0  0  0  0  0  0  0  0  0 16 93252253187  0  0  0  0  0  0  0  0\n",
      "  0  0  0  0  0  0  0  0  0  0  0  0  0  0  0  0  0249253249 64  0  0  0  0  0  0  0\n",
      "  0  0  0  0  0  0  0  0  0  0  0  0  0  0 46130183253253207  2  0  0  0  0  0  0  0\n",
      "  0  0  0  0  0  0  0  0  0  0  0  0 39148229253253253250182  0  0  0  0  0  0  0  0\n",
      "  0  0  0  0  0  0  0  0  0  0 24114221253253253253201 78  0  0  0  0  0  0  0  0  0\n",
      "  0  0  0  0  0  0  0  0 23 66213253253253253198 81  2  0  0  0  0  0  0  0  0  0  0\n",
      "  0  0  0  0  0  0 18171219253253253253195 80  9  0  0  0  0  0  0  0  0  0  0  0  0\n",
      "  0  0  0  0 55172226253253253253244133 11  0  0  0  0  0  0  0  0  0  0  0  0  0  0\n",
      "  0  0  0  0136253253253212135132 16  0  0  0  0  0  0  0  0  0  0  0  0  0  0  0  0\n",
      "  0  0  0  0  0  0  0  0  0  0  0  0  0  0  0  0  0  0  0  0  0  0  0  0  0  0  0  0\n",
      "  0  0  0  0  0  0  0  0  0  0  0  0  0  0  0  0  0  0  0  0  0  0  0  0  0  0  0  0\n",
      "  0  0  0  0  0  0  0  0  0  0  0  0  0  0  0  0  0  0  0  0  0  0  0  0  0  0  0  0\n"
     ]
    }
   ],
   "source": [
    "x= xr[0]\n",
    "\n",
    "for i in range(28):\n",
    "    for j in range(28):\n",
    "        z= x[i,j]\n",
    "        print(f'{z:3d}', end='')\n",
    "    print()\n",
    "\n",
    "    #顯示出第一張的樣子(因為是xr[0])"
   ]
  },
  {
   "cell_type": "code",
   "execution_count": 13,
   "id": "eb758f77",
   "metadata": {},
   "outputs": [
    {
     "data": {
      "text/plain": [
       "<matplotlib.image.AxesImage at 0x1badf43f048>"
      ]
     },
     "execution_count": 13,
     "metadata": {},
     "output_type": "execute_result"
    },
    {
     "data": {
      "image/png": "[encoded data removed]",
      "text/plain": [
       "<Figure size 432x288 with 1 Axes>"
      ]
     },
     "metadata": {
      "needs_background": "light"
     },
     "output_type": "display_data"
    }
   ],
   "source": [
    "import matplotlib.pyplot as plt\n",
    "plt.imshow(x)"
   ]
  },
  {
   "cell_type": "code",
   "execution_count": 18,
   "id": "73225c56",
   "metadata": {},
   "outputs": [
    {
     "name": "stdout",
     "output_type": "stream",
     "text": [
      "y=5\n"
     ]
    }
   ],
   "source": [
    "y= yr[0]\n",
    "print(f'y={y}')\n",
    "#{}裡面的是format的東西，' '內的會直接輸出"
   ]
  },
  {
   "cell_type": "code",
   "execution_count": 19,
   "id": "85f563e8",
   "metadata": {},
   "outputs": [],
   "source": [
    "xr1= xr.reshape(-1, 28*28) \n",
    "xt1= xt.reshape(-1, 28*28) "
   ]
  },
  {
   "cell_type": "code",
   "execution_count": 20,
   "id": "c8f1a75c",
   "metadata": {},
   "outputs": [
    {
     "data": {
      "text/plain": [
       "array([[0, 0, 0, ..., 0, 0, 0],\n",
       "       [0, 0, 0, ..., 0, 0, 0],\n",
       "       [0, 0, 0, ..., 0, 0, 0],\n",
       "       ...,\n",
       "       [0, 0, 0, ..., 0, 0, 0],\n",
       "       [0, 0, 0, ..., 0, 0, 0],\n",
       "       [0, 0, 0, ..., 0, 0, 0]], dtype=uint8)"
      ]
     },
     "execution_count": 20,
     "metadata": {},
     "output_type": "execute_result"
    }
   ],
   "source": [
    "xr1"
   ]
  },
  {
   "cell_type": "code",
   "execution_count": 21,
   "id": "f8741d2f",
   "metadata": {},
   "outputs": [],
   "source": [
    "aModel= keras.Sequential([\n",
    "    keras.Input(28*28),\n",
    "    keras.layers.Dense(100),    \n",
    "    keras.layers.Dense(10)   \n",
    "    ])\n",
    "\n",
    "aModel.compile(\n",
    "    loss=     'sparse_categorical_crossentropy',\n",
    "    metrics= ['accuracy']\n",
    "    )"
   ]
  },
  {
   "cell_type": "code",
   "execution_count": 22,
   "id": "bced9185",
   "metadata": {},
   "outputs": [
    {
     "name": "stdout",
     "output_type": "stream",
     "text": [
      "Model: \"sequential\"\n",
      "_________________________________________________________________\n",
      " Layer (type)                Output Shape              Param #   \n",
      "=================================================================\n",
      " dense (Dense)               (None, 100)               78500     \n",
      "                                                                 \n",
      " dense_1 (Dense)             (None, 10)                1010      \n",
      "                                                                 \n",
      "=================================================================\n",
      "Total params: 79,510\n",
      "Trainable params: 79,510\n",
      "Non-trainable params: 0\n",
      "_________________________________________________________________\n",
      "You must install pydot (`pip install pydot`) and install graphviz (see instructions at https://graphviz.gitlab.io/download/) for plot_model to work.\n"
     ]
    }
   ],
   "source": [
    "aModel.summary()\n",
    "\n",
    "keras.utils.plot_model(aModel, \n",
    "    show_shapes= True, \n",
    "    show_layer_activations= True)"
   ]
  },
  {
   "cell_type": "code",
   "execution_count": 24,
   "id": "a92a6a7d",
   "metadata": {},
   "outputs": [
    {
     "name": "stdout",
     "output_type": "stream",
     "text": [
      "Epoch 1/10\n",
      "600/600 [==============================] - 1s 1ms/step - loss: 2.8226 - accuracy: 0.1054\n",
      "Epoch 2/10\n",
      "600/600 [==============================] - 1s 1ms/step - loss: 2.3040 - accuracy: 0.1193\n",
      "Epoch 3/10\n",
      "600/600 [==============================] - 1s 1ms/step - loss: 2.3040 - accuracy: 0.1193\n",
      "Epoch 4/10\n",
      "600/600 [==============================] - 1s 1ms/step - loss: 2.3040 - accuracy: 0.1193\n",
      "Epoch 5/10\n",
      "600/600 [==============================] - 1s 1ms/step - loss: 2.3040 - accuracy: 0.1193\n",
      "Epoch 6/10\n",
      "600/600 [==============================] - 1s 1ms/step - loss: 2.3040 - accuracy: 0.1193\n",
      "Epoch 7/10\n",
      "600/600 [==============================] - 1s 1ms/step - loss: 2.3040 - accuracy: 0.1193\n",
      "Epoch 8/10\n",
      "600/600 [==============================] - 1s 1ms/step - loss: 2.3040 - accuracy: 0.1193\n",
      "Epoch 9/10\n",
      "600/600 [==============================] - 1s 1ms/step - loss: 2.3040 - accuracy: 0.1193\n",
      "Epoch 10/10\n",
      "600/600 [==============================] - 1s 1ms/step - loss: 2.3040 - accuracy: 0.1193\n",
      "313/313 [==============================] - 0s 911us/step - loss: 2.3067 - accuracy: 0.1169\n"
     ]
    },
    {
     "data": {
      "text/plain": [
       "[2.3067355155944824, 0.1168999969959259]"
      ]
     },
     "execution_count": 24,
     "metadata": {},
     "output_type": "execute_result"
    }
   ],
   "source": [
    "aModel.fit(xr1, yr, \n",
    "           epochs= 10, \n",
    "           batch_size= 100)\n",
    "\n",
    "aModel.evaluate(xt1, yt)"
   ]
  },
  {
   "cell_type": "code",
   "execution_count": 25,
   "id": "34bd7930",
   "metadata": {},
   "outputs": [
    {
     "name": "stdout",
     "output_type": "stream",
     "text": [
      "Epoch 1/10\n",
      "600/600 [==============================] - 1s 1ms/step - loss: 2.2240 - accuracy: 0.2130\n",
      "Epoch 2/10\n",
      "600/600 [==============================] - 1s 1ms/step - loss: 2.1764 - accuracy: 0.2033\n",
      "Epoch 3/10\n",
      "600/600 [==============================] - 1s 1ms/step - loss: 2.2482 - accuracy: 0.1937\n",
      "Epoch 4/10\n",
      "600/600 [==============================] - 1s 1ms/step - loss: 2.2255 - accuracy: 0.2134\n",
      "Epoch 5/10\n",
      "600/600 [==============================] - 1s 1ms/step - loss: 2.2481 - accuracy: 0.2642\n",
      "Epoch 6/10\n",
      "600/600 [==============================] - 1s 1ms/step - loss: 2.2709 - accuracy: 0.2774\n",
      "Epoch 7/10\n",
      "600/600 [==============================] - 1s 1ms/step - loss: 2.2729 - accuracy: 0.2883\n",
      "Epoch 8/10\n",
      "600/600 [==============================] - 1s 1ms/step - loss: 2.3029 - accuracy: 0.2828\n",
      "Epoch 9/10\n",
      "600/600 [==============================] - 1s 1ms/step - loss: 2.3026 - accuracy: 0.2798\n",
      "Epoch 10/10\n",
      "600/600 [==============================] - 1s 1ms/step - loss: 2.3026 - accuracy: 0.2798\n",
      "313/313 [==============================] - 0s 893us/step - loss: 2.3026 - accuracy: 0.2816\n"
     ]
    },
    {
     "data": {
      "text/plain": [
       "[2.30259108543396, 0.2815999984741211]"
      ]
     },
     "execution_count": 25,
     "metadata": {},
     "output_type": "execute_result"
    }
   ],
   "source": [
    "aModel= keras.Sequential([\n",
    "    keras.Input(28*28),\n",
    "    keras.layers.Dense(100, activation= 'sigmoid'),    \n",
    "    keras.layers.Dense(10)   \n",
    "    ])\n",
    "\n",
    "aModel.compile(\n",
    "    loss=     'sparse_categorical_crossentropy',\n",
    "    metrics= ['accuracy']\n",
    "    )\n",
    "\n",
    "aModel.fit(xr1, yr, \n",
    "           epochs= 10, \n",
    "           batch_size= 100)\n",
    "\n",
    "aModel.evaluate(xt1, yt)"
   ]
  },
  {
   "cell_type": "code",
   "execution_count": 28,
   "id": "9dbf5156",
   "metadata": {},
   "outputs": [
    {
     "name": "stdout",
     "output_type": "stream",
     "text": [
      "Epoch 1/10\n",
      "600/600 [==============================] - 1s 2ms/step - loss: 14.8979 - accuracy: 0.0026\n",
      "Epoch 2/10\n",
      "600/600 [==============================] - 1s 2ms/step - loss: 14.5456 - accuracy: 0.0101\n",
      "Epoch 3/10\n",
      "600/600 [==============================] - 1s 2ms/step - loss: 14.3501 - accuracy: 0.0104\n",
      "Epoch 4/10\n",
      "600/600 [==============================] - 1s 2ms/step - loss: 14.5367 - accuracy: 0.0041\n",
      "Epoch 5/10\n",
      "600/600 [==============================] - 1s 2ms/step - loss: 14.4275 - accuracy: 0.0040\n",
      "Epoch 6/10\n",
      "600/600 [==============================] - 1s 2ms/step - loss: 14.4301 - accuracy: 0.0058\n",
      "Epoch 7/10\n",
      "600/600 [==============================] - 1s 2ms/step - loss: 14.3006 - accuracy: 0.0102\n",
      "Epoch 8/10\n",
      "600/600 [==============================] - 1s 2ms/step - loss: 14.0375 - accuracy: 0.0182\n",
      "Epoch 9/10\n",
      "600/600 [==============================] - 1s 2ms/step - loss: 14.0809 - accuracy: 0.0218\n",
      "Epoch 10/10\n",
      "600/600 [==============================] - 1s 2ms/step - loss: 13.7015 - accuracy: 0.0183\n",
      "313/313 [==============================] - 0s 960us/step - loss: 13.1852 - accuracy: 0.0136\n"
     ]
    },
    {
     "data": {
      "text/plain": [
       "[13.185150146484375, 0.01360000018030405]"
      ]
     },
     "execution_count": 28,
     "metadata": {},
     "output_type": "execute_result"
    }
   ],
   "source": [
    "aModel= keras.Sequential([\n",
    "    keras.Input(28*28),\n",
    "    keras.layers.Dense(100, activation= 'relu'),    \n",
    "    keras.layers.Dense(100, activation = 'relu')   \n",
    "    ])\n",
    "\n",
    "aModel.compile(\n",
    "    loss=     'sparse_categorical_crossentropy',\n",
    "    metrics= ['accuracy']\n",
    "    )\n",
    "\n",
    "aModel.fit(xr1, yr, \n",
    "           epochs= 10, \n",
    "           batch_size= 100)\n",
    "\n",
    "aModel.evaluate(xt1, yt)"
   ]
  },
  {
   "cell_type": "code",
   "execution_count": 29,
   "id": "840a9ae7",
   "metadata": {},
   "outputs": [],
   "source": [
    "xr1= xr.reshape(-1,28*28) /255\n",
    "xt1= xt.reshape(-1,28*28) /255\n"
   ]
  },
  {
   "cell_type": "code",
   "execution_count": 31,
   "id": "5ae5e9e5",
   "metadata": {},
   "outputs": [
    {
     "name": "stdout",
     "output_type": "stream",
     "text": [
      "Epoch 1/10\n",
      "600/600 [==============================] - 2s 2ms/step - loss: 4.5446 - accuracy: 0.1332\n",
      "Epoch 2/10\n",
      "600/600 [==============================] - 1s 2ms/step - loss: 4.4064 - accuracy: 0.1435\n",
      "Epoch 3/10\n",
      "600/600 [==============================] - 1s 2ms/step - loss: 4.4139 - accuracy: 0.1411\n",
      "Epoch 4/10\n",
      "600/600 [==============================] - 1s 2ms/step - loss: 4.4126 - accuracy: 0.1413\n",
      "Epoch 5/10\n",
      "600/600 [==============================] - 1s 2ms/step - loss: 4.3670 - accuracy: 0.1517\n",
      "Epoch 6/10\n",
      "600/600 [==============================] - 1s 2ms/step - loss: 4.3720 - accuracy: 0.1503\n",
      "Epoch 7/10\n",
      "600/600 [==============================] - 1s 2ms/step - loss: 4.3822 - accuracy: 0.1480\n",
      "Epoch 8/10\n",
      "600/600 [==============================] - 1s 2ms/step - loss: 4.3792 - accuracy: 0.1489\n",
      "Epoch 9/10\n",
      "600/600 [==============================] - 1s 2ms/step - loss: 4.3404 - accuracy: 0.1574\n",
      "Epoch 10/10\n",
      "600/600 [==============================] - 1s 2ms/step - loss: 4.3795 - accuracy: 0.1486\n",
      "313/313 [==============================] - 0s 990us/step - loss: 4.4516 - accuracy: 0.1316\n"
     ]
    },
    {
     "data": {
      "text/plain": [
       "[4.451596736907959, 0.1316000074148178]"
      ]
     },
     "execution_count": 31,
     "metadata": {},
     "output_type": "execute_result"
    }
   ],
   "source": [
    "aModel= keras.Sequential([\n",
    "    keras.Input(28*28),\n",
    "    keras.layers.Dense(200, activation= 'relu'),    \n",
    "    keras.layers.Dense(100, activation = 'relu')   \n",
    "    ])\n",
    "\n",
    "aModel.compile(\n",
    "    loss=     'sparse_categorical_crossentropy',\n",
    "    metrics= ['accuracy']\n",
    "    )\n",
    "\n",
    "aModel.fit(xr1, yr, \n",
    "           epochs= 10, \n",
    "           batch_size= 100)\n",
    "\n",
    "aModel.evaluate(xt1, yt)"
   ]
  },
  {
   "cell_type": "code",
   "execution_count": 34,
   "id": "4bd6ed9e",
   "metadata": {},
   "outputs": [
    {
     "name": "stdout",
     "output_type": "stream",
     "text": [
      "Epoch 1/10\n",
      "10/10 [==============================] - 1s 22ms/step - loss: 5.3045 - accuracy: 0.3246\n",
      "Epoch 2/10\n",
      "10/10 [==============================] - 0s 23ms/step - loss: 1.4784 - accuracy: 0.6576\n",
      "Epoch 3/10\n",
      "10/10 [==============================] - 0s 23ms/step - loss: 1.1241 - accuracy: 0.7648\n",
      "Epoch 4/10\n",
      "10/10 [==============================] - 0s 22ms/step - loss: 0.8586 - accuracy: 0.8358\n",
      "Epoch 5/10\n",
      "10/10 [==============================] - 0s 21ms/step - loss: 0.8822 - accuracy: 0.7907\n",
      "Epoch 6/10\n",
      "10/10 [==============================] - 0s 21ms/step - loss: 0.7100 - accuracy: 0.8496\n",
      "Epoch 7/10\n",
      "10/10 [==============================] - 0s 23ms/step - loss: 0.6593 - accuracy: 0.8703\n",
      "Epoch 8/10\n",
      "10/10 [==============================] - 0s 23ms/step - loss: 0.6777 - accuracy: 0.8648\n",
      "Epoch 9/10\n",
      "10/10 [==============================] - 0s 22ms/step - loss: 0.6864 - accuracy: 0.8547\n",
      "Epoch 10/10\n",
      "10/10 [==============================] - 0s 20ms/step - loss: 0.5696 - accuracy: 0.8978\n",
      "313/313 [==============================] - 0s 967us/step - loss: 0.5688 - accuracy: 0.9096\n"
     ]
    },
    {
     "data": {
      "text/plain": [
       "[0.5687856674194336, 0.909600019454956]"
      ]
     },
     "execution_count": 34,
     "metadata": {},
     "output_type": "execute_result"
    }
   ],
   "source": [
    "aModel= keras.Sequential([\n",
    "    keras.Input(28*28),\n",
    "    keras.layers.Dense(100, activation= 'relu'),    \n",
    "    keras.layers.Dense(100, activation = 'relu'),\n",
    "    keras.layers.Dense(100, activation = 'relu')  \n",
    "    ])\n",
    "\n",
    "aModel.compile(\n",
    "    loss=     'sparse_categorical_crossentropy',\n",
    "    metrics= ['accuracy']\n",
    "    )\n",
    "\n",
    "aModel.fit(xr1, yr, \n",
    "           epochs= 10, \n",
    "           batch_size= 6000)\n",
    "\n",
    "aModel.evaluate(xt1, yt)\n",
    "#把batchsize調大，訓練的數據變多，正確率上升"
   ]
  },
  {
   "cell_type": "code",
   "execution_count": 41,
   "id": "fc2391d4",
   "metadata": {},
   "outputs": [
    {
     "name": "stdout",
     "output_type": "stream",
     "text": [
      "Epoch 1/10\n",
      "10/10 [==============================] - 1s 15ms/step - loss: 1.5269 - accuracy: 0.5831\n",
      "Epoch 2/10\n",
      "10/10 [==============================] - 0s 15ms/step - loss: 0.7154 - accuracy: 0.8257\n",
      "Epoch 3/10\n",
      "10/10 [==============================] - 0s 15ms/step - loss: 0.5104 - accuracy: 0.8646\n",
      "Epoch 4/10\n",
      "10/10 [==============================] - 0s 15ms/step - loss: 0.4270 - accuracy: 0.8840\n",
      "Epoch 5/10\n",
      "10/10 [==============================] - 0s 17ms/step - loss: 0.3596 - accuracy: 0.9021\n",
      "Epoch 6/10\n",
      "10/10 [==============================] - 0s 16ms/step - loss: 0.3342 - accuracy: 0.9036\n",
      "Epoch 7/10\n",
      "10/10 [==============================] - 0s 16ms/step - loss: 0.3071 - accuracy: 0.9128\n",
      "Epoch 8/10\n",
      "10/10 [==============================] - 0s 16ms/step - loss: 0.2846 - accuracy: 0.9167\n",
      "Epoch 9/10\n",
      "10/10 [==============================] - 0s 16ms/step - loss: 0.2688 - accuracy: 0.9227\n",
      "Epoch 10/10\n",
      "10/10 [==============================] - 0s 15ms/step - loss: 0.2444 - accuracy: 0.9304\n",
      "313/313 [==============================] - 0s 1ms/step - loss: 0.2308 - accuracy: 0.9337\n"
     ]
    },
    {
     "data": {
      "text/plain": [
       "[0.23081298172473907, 0.9337000250816345]"
      ]
     },
     "execution_count": 41,
     "metadata": {},
     "output_type": "execute_result"
    }
   ],
   "source": [
    "aModel= keras.Sequential([\n",
    "    keras.Input(28*28),\n",
    "    keras.layers.Dense(100, activation= 'relu'),    \n",
    "    keras.layers.Dense(100, activation = 'relu'),\n",
    "    keras.layers.Dense(10, activation = 'softmax')\n",
    "    ])   \n",
    "aModel.compile(\n",
    "    loss=     'sparse_categorical_crossentropy',\n",
    "    metrics= ['accuracy']\n",
    "    )\n",
    "\n",
    "aModel.fit(xr1, yr, \n",
    "           epochs= 10, \n",
    "           batch_size= 6000)\n",
    "\n",
    "aModel.evaluate(xt1, yt)\n",
    "#把batchsize調大，訓練的數據變多，正確率上升"
   ]
  },
  {
   "cell_type": "code",
   "execution_count": 43,
   "id": "4e18dac4",
   "metadata": {},
   "outputs": [
    {
     "name": "stdout",
     "output_type": "stream",
     "text": [
      "Epoch 1/10\n",
      "10/10 [==============================] - 1s 15ms/step - loss: 1.5137 - accuracy: 0.6140\n",
      "Epoch 2/10\n",
      "10/10 [==============================] - 0s 15ms/step - loss: 0.7167 - accuracy: 0.8235\n",
      "Epoch 3/10\n",
      "10/10 [==============================] - 0s 15ms/step - loss: 0.5090 - accuracy: 0.8680\n",
      "Epoch 4/10\n",
      "10/10 [==============================] - 0s 15ms/step - loss: 0.4251 - accuracy: 0.8808\n",
      "Epoch 5/10\n",
      "10/10 [==============================] - 0s 15ms/step - loss: 0.3616 - accuracy: 0.9000\n",
      "Epoch 6/10\n",
      "10/10 [==============================] - 0s 17ms/step - loss: 0.3338 - accuracy: 0.9045\n",
      "Epoch 7/10\n",
      "10/10 [==============================] - 0s 16ms/step - loss: 0.3009 - accuracy: 0.9148\n",
      "Epoch 8/10\n",
      "10/10 [==============================] - 0s 15ms/step - loss: 0.2822 - accuracy: 0.9193\n",
      "Epoch 9/10\n",
      "10/10 [==============================] - 0s 16ms/step - loss: 0.2595 - accuracy: 0.9255\n",
      "Epoch 10/10\n",
      "10/10 [==============================] - 0s 14ms/step - loss: 0.2496 - accuracy: 0.9267\n",
      "313/313 [==============================] - 0s 982us/step - loss: 0.2408 - accuracy: 0.9288\n"
     ]
    },
    {
     "data": {
      "text/plain": [
       "[0.2408134490251541, 0.9287999868392944]"
      ]
     },
     "execution_count": 43,
     "metadata": {},
     "output_type": "execute_result"
    }
   ],
   "source": [
    "aModel= keras.Sequential([\n",
    "    keras.Input(28*28),\n",
    "    keras.layers.Dense(100, activation= 'relu'),    \n",
    "    keras.layers.Dense(100, activation = 'relu'),\n",
    "    keras.layers.Dense(10, activation = 'softmax')\n",
    "    ])   \n",
    "aModel.compile(\n",
    "    loss=     'sparse_categorical_crossentropy',\n",
    "    metrics= ['accuracy']\n",
    "    )\n",
    "\n",
    "aModel.fit(xr1, yr, \n",
    "           epochs= 10, \n",
    "           batch_size= 6000)\n",
    "\n",
    "aModel.evaluate(xt1, yt)\n",
    "#把batchsize調大，訓練的數據變多，正確率上升\n",
    "#層數可以由大排到小，通常是用relu和softmax"
   ]
  },
  {
   "cell_type": "code",
   "execution_count": 48,
   "id": "221a42d7",
   "metadata": {},
   "outputs": [
    {
     "name": "stdout",
     "output_type": "stream",
     "text": [
      "Epoch 1/10\n",
      "600/600 [==============================] - 1s 1ms/step - loss: 0.3011 - accuracy: 0.9149\n",
      "Epoch 2/10\n",
      "600/600 [==============================] - 1s 1ms/step - loss: 0.1284 - accuracy: 0.9617\n",
      "Epoch 3/10\n",
      "600/600 [==============================] - 1s 1ms/step - loss: 0.0908 - accuracy: 0.9725\n",
      "Epoch 4/10\n",
      "600/600 [==============================] - 1s 1ms/step - loss: 0.0707 - accuracy: 0.9783\n",
      "Epoch 5/10\n",
      "600/600 [==============================] - 1s 1ms/step - loss: 0.0584 - accuracy: 0.9820\n",
      "Epoch 6/10\n",
      "600/600 [==============================] - 1s 1ms/step - loss: 0.0462 - accuracy: 0.9859\n",
      "Epoch 7/10\n",
      "600/600 [==============================] - 1s 1ms/step - loss: 0.0399 - accuracy: 0.9876\n",
      "Epoch 8/10\n",
      "600/600 [==============================] - 1s 1ms/step - loss: 0.0328 - accuracy: 0.9898\n",
      "Epoch 9/10\n",
      "600/600 [==============================] - 1s 1ms/step - loss: 0.0282 - accuracy: 0.9908\n",
      "Epoch 10/10\n",
      "600/600 [==============================] - 1s 1ms/step - loss: 0.0244 - accuracy: 0.9928\n",
      "313/313 [==============================] - 0s 908us/step - loss: 0.0979 - accuracy: 0.9768\n"
     ]
    },
    {
     "data": {
      "text/plain": [
       "[0.09790939092636108, 0.9768000245094299]"
      ]
     },
     "execution_count": 48,
     "metadata": {},
     "output_type": "execute_result"
    }
   ],
   "source": [
    "aModel= keras.Sequential([\n",
    "    keras.Input(28*28),\n",
    "    keras.layers.Dense(100, activation= 'relu'),    \n",
    "    keras.layers.Dense(100, activation = 'relu'),\n",
    "    keras.layers.Dense(10, activation = 'softmax')\n",
    "    ])   \n",
    "aModel.compile(\n",
    "    loss=     'sparse_categorical_crossentropy',\n",
    "    metrics= ['accuracy']\n",
    "    )\n",
    "\n",
    "aModel.fit(xr1, yr, \n",
    "           epochs= 10, \n",
    "           batch_size= 100)\n",
    "\n",
    "aModel.evaluate(xt1, yt)\n",
    "#層數可以由大排到小，通常是用relu和softmax"
   ]
  },
  {
   "cell_type": "code",
   "execution_count": 49,
   "id": "300a2005",
   "metadata": {},
   "outputs": [
    {
     "name": "stdout",
     "output_type": "stream",
     "text": [
      "Epoch 1/10\n",
      "1200/1200 [==============================] - 2s 1ms/step - loss: 0.2601 - accuracy: 0.9238\n",
      "Epoch 2/10\n",
      "1200/1200 [==============================] - 2s 1ms/step - loss: 0.1116 - accuracy: 0.9664\n",
      "Epoch 3/10\n",
      "1200/1200 [==============================] - 2s 1ms/step - loss: 0.0801 - accuracy: 0.9757\n",
      "Epoch 4/10\n",
      "1200/1200 [==============================] - 2s 1ms/step - loss: 0.0644 - accuracy: 0.9805\n",
      "Epoch 5/10\n",
      "1200/1200 [==============================] - 2s 1ms/step - loss: 0.0532 - accuracy: 0.9843\n",
      "Epoch 6/10\n",
      "1200/1200 [==============================] - 2s 1ms/step - loss: 0.0438 - accuracy: 0.9871\n",
      "Epoch 7/10\n",
      "1200/1200 [==============================] - 2s 1ms/step - loss: 0.0386 - accuracy: 0.9885\n",
      "Epoch 8/10\n",
      "1200/1200 [==============================] - 2s 1ms/step - loss: 0.0331 - accuracy: 0.9900\n",
      "Epoch 9/10\n",
      "1200/1200 [==============================] - 2s 1ms/step - loss: 0.0287 - accuracy: 0.9911\n",
      "Epoch 10/10\n",
      "1200/1200 [==============================] - 2s 1ms/step - loss: 0.0248 - accuracy: 0.9925\n",
      "313/313 [==============================] - 0s 930us/step - loss: 0.1022 - accuracy: 0.9770\n"
     ]
    },
    {
     "data": {
      "text/plain": [
       "[0.10217916965484619, 0.9769999980926514]"
      ]
     },
     "execution_count": 49,
     "metadata": {},
     "output_type": "execute_result"
    }
   ],
   "source": [
    "aModel= keras.Sequential([\n",
    "    keras.Input(28*28),\n",
    "    keras.layers.Dense(100, activation= 'relu'),    \n",
    "    keras.layers.Dense(100, activation = 'relu'),\n",
    "    keras.layers.Dense(10, activation = 'softmax')\n",
    "    ])   \n",
    "aModel.compile(\n",
    "    loss=     'sparse_categorical_crossentropy',\n",
    "    metrics= ['accuracy']\n",
    "    )\n",
    "\n",
    "aModel.fit(xr1, yr, \n",
    "           epochs= 10, \n",
    "           batch_size= 50)\n",
    "\n",
    "aModel.evaluate(xt1, yt)\n",
    "#層數可以由大排到小，通常是用relu和softmax"
   ]
  },
  {
   "cell_type": "code",
   "execution_count": 50,
   "id": "e31e3a93",
   "metadata": {},
   "outputs": [
    {
     "name": "stdout",
     "output_type": "stream",
     "text": [
      "Model: \"sequential_24\"\n",
      "_________________________________________________________________\n",
      " Layer (type)                Output Shape              Param #   \n",
      "=================================================================\n",
      " dense_66 (Dense)            (None, 100)               78500     \n",
      "                                                                 \n",
      " dense_67 (Dense)            (None, 100)               10100     \n",
      "                                                                 \n",
      " dense_68 (Dense)            (None, 10)                1010      \n",
      "                                                                 \n",
      "=================================================================\n",
      "Total params: 89,610\n",
      "Trainable params: 89,610\n",
      "Non-trainable params: 0\n",
      "_________________________________________________________________\n",
      "You must install pydot (`pip install pydot`) and install graphviz (see instructions at https://graphviz.gitlab.io/download/) for plot_model to work.\n"
     ]
    }
   ],
   "source": [
    "aModel.summary() #可以看到模型的各層組成\n",
    "\n",
    "keras.utils.plot_model(aModel, \n",
    "    show_shapes= True, \n",
    "    show_layer_activations= True)"
   ]
  },
  {
   "cell_type": "code",
   "execution_count": null,
   "id": "d63173dc",
   "metadata": {},
   "outputs": [],
   "source": []
  }
 ],
 "metadata": {
  "kernelspec": {
   "display_name": "Python 3 (ipykernel)",
   "language": "python",
   "name": "python3"
  },
  "language_info": {
   "codemirror_mode": {
    "name": "ipython",
    "version": 3
   },
   "file_extension": ".py",
   "mimetype": "text/x-python",
   "name": "python",
   "nbconvert_exporter": "python",
   "pygments_lexer": "ipython3",
   "version": "3.7.13"
  }
 },
 "nbformat": 4,
 "nbformat_minor": 5
}
