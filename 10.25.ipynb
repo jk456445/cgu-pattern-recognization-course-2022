{
 "cells": [
  {
   "cell_type": "markdown",
   "metadata": {
    "colab_type": "text"
   },
   "source": [
    "**The `Sequential` class**"
   ]
  },
  {
   "cell_type": "code",
   "execution_count": 1,
   "metadata": {
    "colab_type": "code"
   },
   "outputs": [],
   "source": [
    "from tensorflow import keras\n",
    "from tensorflow.keras import layers\n",
    "\n",
    "model = keras.Sequential([\n",
    "    layers.Dense(64, activation=\"relu\"),\n",
    "    layers.Dense(10, activation=\"softmax\")\n",
    "])"
   ]
  },
  {
   "cell_type": "markdown",
   "metadata": {
    "colab_type": "text"
   },
   "source": [
    "**Incrementally building a Sequential model**"
   ]
  },
  {
   "cell_type": "code",
   "execution_count": 2,
   "metadata": {
    "colab_type": "code"
   },
   "outputs": [],
   "source": [
    "model = keras.Sequential()\n",
    "model.add(layers.Dense(64, activation=\"relu\"))\n",
    "model.add(layers.Dense(10, activation=\"softmax\"))"
   ]
  },
  {
   "cell_type": "markdown",
   "metadata": {
    "colab_type": "text"
   },
   "source": [
    "**Calling a model for the first time to build it**"
   ]
  },
  {
   "cell_type": "code",
   "execution_count": 3,
   "metadata": {
    "colab_type": "code"
   },
   "outputs": [
    {
     "data": {
      "text/plain": [
       "[<tf.Variable 'dense_2/kernel:0' shape=(3, 64) dtype=float32, numpy=\n",
       " array([[ 0.26940036, -0.21045986, -0.00791258,  0.14734009, -0.01824161,\n",
       "         -0.0547162 ,  0.23817354,  0.23169309,  0.06057805,  0.29079074,\n",
       "         -0.2279096 , -0.10305515,  0.18563104,  0.26276374,  0.02649915,\n",
       "         -0.26410627, -0.04937299,  0.02341038, -0.05528456,  0.14073488,\n",
       "          0.14492497, -0.05849212,  0.18476558, -0.04317909, -0.12221208,\n",
       "         -0.29638493, -0.04201794,  0.26954538,  0.2295239 ,  0.2191813 ,\n",
       "          0.20832801,  0.09177849,  0.17383444, -0.10319914,  0.2955085 ,\n",
       "         -0.25166214, -0.24454881,  0.23277712,  0.19415098,  0.01730454,\n",
       "         -0.0418357 , -0.16851413,  0.03433046, -0.15315674,  0.03950214,\n",
       "          0.12914014,  0.23661518, -0.05247854, -0.2332147 ,  0.01315197,\n",
       "          0.033223  , -0.13766351,  0.07772082,  0.13566756, -0.05830611,\n",
       "          0.14940709, -0.09294173,  0.27569675,  0.02189916,  0.20413768,\n",
       "          0.29453546, -0.11573137,  0.00156608, -0.16736637],\n",
       "        [-0.00209618,  0.29492617, -0.15630744,  0.11058459, -0.08913799,\n",
       "         -0.14386168,  0.02017727,  0.223535  ,  0.28153694,  0.2509436 ,\n",
       "          0.14921153,  0.03136584, -0.00922137, -0.28076226, -0.29514492,\n",
       "         -0.2552057 , -0.07806864, -0.096719  ,  0.23740333, -0.02238134,\n",
       "         -0.13506775,  0.17499742, -0.02930924, -0.05600438,  0.06829205,\n",
       "         -0.08163908, -0.05657494, -0.15789172,  0.02117449,  0.1270124 ,\n",
       "          0.13363388,  0.24564183, -0.12760866, -0.11270161,  0.21931714,\n",
       "          0.01323822,  0.20532173, -0.13167503,  0.21072644,  0.2734769 ,\n",
       "         -0.14924006,  0.0270386 , -0.26240915,  0.19593623,  0.08354563,\n",
       "         -0.02607793, -0.08292754,  0.19046474,  0.01978078,  0.20844841,\n",
       "         -0.25828847,  0.1177254 ,  0.2203269 ,  0.02785295, -0.19606958,\n",
       "          0.04276764, -0.2241986 ,  0.12719983,  0.04233199, -0.08105089,\n",
       "         -0.07442422, -0.25484124,  0.2885123 , -0.21465352],\n",
       "        [ 0.00395942,  0.14145148,  0.22037196,  0.14194614,  0.07395124,\n",
       "         -0.04801241, -0.16074076,  0.04171264, -0.09664488, -0.18232414,\n",
       "         -0.19161338,  0.22700292,  0.1250472 , -0.10609049, -0.29519457,\n",
       "         -0.18778265,  0.26442486, -0.01197359,  0.12414908,  0.14389315,\n",
       "         -0.23056   , -0.21967325, -0.14948685,  0.19618466, -0.18550225,\n",
       "          0.20373577, -0.08707754,  0.0807949 , -0.03789076, -0.01204252,\n",
       "          0.23739326, -0.25152695,  0.08629584, -0.00304818,  0.05796593,\n",
       "         -0.2984202 , -0.2347132 ,  0.07046229, -0.11467437, -0.04982199,\n",
       "         -0.2932111 ,  0.17894292,  0.29721433,  0.00562352,  0.25868917,\n",
       "          0.21255153, -0.23905227,  0.1021935 ,  0.26423556,  0.0882256 ,\n",
       "          0.26564407,  0.2673363 , -0.23809022,  0.11315152,  0.13226572,\n",
       "          0.11812866, -0.08383715,  0.06431872,  0.24335605, -0.20913158,\n",
       "          0.04803151,  0.01959908,  0.18906912,  0.02027678]],\n",
       "       dtype=float32)>,\n",
       " <tf.Variable 'dense_2/bias:0' shape=(64,) dtype=float32, numpy=\n",
       " array([0., 0., 0., 0., 0., 0., 0., 0., 0., 0., 0., 0., 0., 0., 0., 0., 0.,\n",
       "        0., 0., 0., 0., 0., 0., 0., 0., 0., 0., 0., 0., 0., 0., 0., 0., 0.,\n",
       "        0., 0., 0., 0., 0., 0., 0., 0., 0., 0., 0., 0., 0., 0., 0., 0., 0.,\n",
       "        0., 0., 0., 0., 0., 0., 0., 0., 0., 0., 0., 0., 0.], dtype=float32)>,\n",
       " <tf.Variable 'dense_3/kernel:0' shape=(64, 10) dtype=float32, numpy=\n",
       " array([[-5.26711941e-02,  1.68512970e-01, -2.20580131e-01,\n",
       "          1.42520875e-01,  7.73772299e-02,  5.10680676e-03,\n",
       "          2.54898280e-01,  1.95916027e-01, -6.13893718e-02,\n",
       "         -9.91339982e-02],\n",
       "        [ 2.44650453e-01, -2.22643614e-02,  7.41260946e-02,\n",
       "         -5.30398935e-02,  1.26497775e-01,  1.28206462e-01,\n",
       "         -5.15398234e-02, -2.17275098e-01, -2.59913713e-01,\n",
       "          7.53830075e-02],\n",
       "        [ 1.03826702e-01, -1.47532448e-01,  2.80842155e-01,\n",
       "          1.10612869e-01, -2.73916841e-01,  1.11002773e-01,\n",
       "         -5.05645275e-02,  7.48931766e-02,  5.90471327e-02,\n",
       "          2.80050427e-01],\n",
       "        [ 1.48322672e-01,  1.40848756e-03,  3.22806537e-02,\n",
       "         -5.59162199e-02,  2.16432065e-01, -2.73179173e-01,\n",
       "         -1.04785964e-01,  1.10124499e-01,  1.91338420e-01,\n",
       "         -4.62802500e-02],\n",
       "        [-1.45396858e-01,  6.69194758e-02, -2.13253751e-01,\n",
       "         -4.31956351e-02, -1.74031928e-01,  1.46970332e-01,\n",
       "         -6.51087463e-02, -1.50399402e-01, -2.35511720e-01,\n",
       "          2.84028679e-01],\n",
       "        [ 3.00903320e-02,  1.48140937e-01,  2.41059095e-01,\n",
       "         -2.28760362e-01,  2.46099085e-01,  2.58304149e-01,\n",
       "         -1.08938664e-01, -1.16417333e-01,  5.57672083e-02,\n",
       "          1.09966576e-01],\n",
       "        [-1.29490733e-01,  2.56915540e-01, -1.08104929e-01,\n",
       "          9.61335003e-02,  4.70816791e-02, -3.14655602e-02,\n",
       "         -2.33224958e-01,  1.60486281e-01,  1.38408422e-01,\n",
       "          5.16154468e-02],\n",
       "        [-2.13169977e-01,  2.38590986e-01,  1.49466664e-01,\n",
       "          4.28619683e-02, -1.36708349e-01, -2.58121371e-01,\n",
       "         -2.23934129e-01,  5.70530295e-02, -2.17463970e-01,\n",
       "          4.60174382e-02],\n",
       "        [-2.01908946e-01, -1.79418325e-01,  3.15058827e-02,\n",
       "          9.96547043e-02,  2.72438496e-01, -1.21335819e-01,\n",
       "          3.28813791e-02, -2.32346803e-01, -2.34161273e-01,\n",
       "         -1.12622872e-01],\n",
       "        [-1.62712857e-01,  6.42068982e-02, -6.10783696e-02,\n",
       "         -2.61187434e-01,  1.61102861e-01,  3.82735431e-02,\n",
       "         -2.69189060e-01, -2.73004472e-02,  1.77514702e-01,\n",
       "          2.03553230e-01],\n",
       "        [-2.30525210e-01,  2.51300186e-01, -3.65478098e-02,\n",
       "         -1.35795042e-01, -2.31192082e-01, -1.77355573e-01,\n",
       "          6.09750450e-02, -1.93213984e-01, -1.61968991e-01,\n",
       "         -8.27500522e-02],\n",
       "        [-9.16858166e-02, -2.38301426e-01, -2.12733924e-01,\n",
       "          1.94376707e-02,  1.42152309e-02,  2.78231531e-01,\n",
       "         -2.23325700e-01, -2.47925520e-01, -5.34779131e-02,\n",
       "         -2.14616761e-01],\n",
       "        [-1.63345933e-02,  2.14885861e-01,  1.60122484e-01,\n",
       "         -2.14740872e-01,  2.11384296e-01, -2.72622347e-01,\n",
       "         -2.11510777e-01,  1.37508571e-01,  1.63002193e-01,\n",
       "          2.07598865e-01],\n",
       "        [ 1.56535208e-02,  2.60979623e-01, -2.46099845e-01,\n",
       "         -2.33388633e-01,  2.09566057e-02, -5.70119470e-02,\n",
       "          2.45323449e-01,  2.07524121e-01, -1.33047104e-02,\n",
       "          2.80761451e-01],\n",
       "        [ 3.15462053e-02, -2.64390796e-01,  1.13528252e-01,\n",
       "          2.18025535e-01, -8.60615522e-02,  1.06651425e-01,\n",
       "         -9.21511352e-02,  1.07278854e-01,  2.08232194e-01,\n",
       "         -3.11137736e-02],\n",
       "        [-1.40476122e-01, -6.76400512e-02, -2.03844532e-01,\n",
       "          7.20958114e-02, -2.63422281e-01,  1.04431659e-01,\n",
       "          1.89171791e-01, -2.09851265e-02,  9.43970680e-03,\n",
       "         -2.74865180e-01],\n",
       "        [ 2.69406348e-01,  1.01603448e-01, -2.51488388e-01,\n",
       "          5.87522089e-02, -7.29874671e-02,  1.60663813e-01,\n",
       "         -2.36338347e-01,  1.66387022e-01,  1.11527830e-01,\n",
       "          1.67807639e-02],\n",
       "        [ 8.18979144e-02, -2.24188104e-01,  2.52436101e-02,\n",
       "         -1.62290245e-01,  2.74154574e-01,  4.74762619e-02,\n",
       "         -1.72461599e-01,  2.78260201e-01, -1.79276764e-01,\n",
       "          1.53827518e-01],\n",
       "        [ 2.36897677e-01, -1.72092140e-01, -3.83028835e-02,\n",
       "          1.66026652e-02, -2.10517079e-01,  2.68328100e-01,\n",
       "         -3.86562347e-02,  8.94291103e-02,  1.72195137e-01,\n",
       "          2.38262922e-01],\n",
       "        [ 8.76367688e-02, -1.56028837e-01, -1.79220021e-01,\n",
       "          2.43600994e-01,  2.78868943e-01,  1.31753415e-01,\n",
       "          5.10164499e-02, -2.35140979e-01,  9.07156765e-02,\n",
       "          2.29880542e-01],\n",
       "        [ 2.49430537e-02, -2.24345401e-01,  1.63826913e-01,\n",
       "         -2.01499373e-01, -1.44447982e-01,  3.79716456e-02,\n",
       "          1.36534095e-01, -1.93165928e-01, -2.71010727e-01,\n",
       "          1.81394637e-01],\n",
       "        [ 1.95357978e-01,  6.28935099e-02,  2.12301284e-01,\n",
       "          1.03160292e-01, -1.16248280e-01, -9.69215631e-02,\n",
       "         -1.50094315e-01, -1.51910275e-01,  2.72629946e-01,\n",
       "          2.29341239e-01],\n",
       "        [ 4.97454405e-02,  5.55872321e-02, -1.78794891e-01,\n",
       "          6.75368011e-02, -7.36146271e-02,  2.22075284e-02,\n",
       "          2.79482514e-01,  5.93927503e-03, -2.59486139e-02,\n",
       "         -6.94175214e-02],\n",
       "        [ 1.16371989e-01,  2.57018358e-01, -6.56422824e-02,\n",
       "         -1.75321683e-01, -1.80960298e-02, -2.71202981e-01,\n",
       "         -2.77116716e-01, -1.55341193e-01, -5.06485105e-02,\n",
       "          5.90791702e-02],\n",
       "        [-1.48986295e-01, -2.44767457e-01,  1.62450403e-01,\n",
       "         -8.46072286e-02, -1.13622397e-01,  2.33561486e-01,\n",
       "         -2.14784145e-02,  2.66504079e-01, -2.84594357e-01,\n",
       "         -7.30880797e-02],\n",
       "        [-2.96507478e-02, -2.34193802e-01, -1.39180869e-01,\n",
       "         -1.11040577e-01, -4.25188541e-02,  2.71720082e-01,\n",
       "          2.36414969e-02,  4.48724926e-02, -1.42161205e-01,\n",
       "          1.53041184e-01],\n",
       "        [-1.78664476e-01,  2.02864289e-01, -2.40612030e-01,\n",
       "         -2.25063324e-01, -1.84366107e-03, -1.24832585e-01,\n",
       "         -2.34061271e-01,  2.07467169e-01,  2.21445531e-01,\n",
       "         -2.49965578e-01],\n",
       "        [ 1.09339893e-01, -1.60805508e-01, -2.01270849e-01,\n",
       "         -3.16354930e-02, -3.27959657e-03,  1.39886916e-01,\n",
       "         -1.06143951e-01, -2.75954008e-02, -1.05606198e-01,\n",
       "         -3.72168422e-03],\n",
       "        [ 1.32228971e-01,  3.18816006e-02, -2.10156381e-01,\n",
       "          1.46226525e-01, -2.13918522e-01, -5.57907671e-02,\n",
       "         -2.41119564e-02, -3.61781567e-02, -1.06548980e-01,\n",
       "          7.06788898e-02],\n",
       "        [-2.41303340e-01,  9.64662135e-02, -1.35805085e-01,\n",
       "         -1.91095978e-01,  1.41424417e-01,  8.34047198e-02,\n",
       "         -4.58787531e-02,  1.44750506e-01,  1.49342418e-03,\n",
       "         -8.80746543e-02],\n",
       "        [-1.01929531e-01, -1.69335634e-01,  1.99890822e-01,\n",
       "          3.38735282e-02, -2.67418176e-01,  1.41883254e-01,\n",
       "         -1.03001222e-01,  2.22461969e-01, -1.80827290e-01,\n",
       "          1.22612417e-01],\n",
       "        [-3.32670808e-02, -9.15313661e-02,  2.22678274e-01,\n",
       "          1.95477605e-02, -1.70591652e-01, -1.22495577e-01,\n",
       "          1.59821123e-01,  1.74657404e-01, -8.18985254e-02,\n",
       "          8.34816396e-02],\n",
       "        [ 2.02224553e-02, -1.11440182e-01,  2.34625369e-01,\n",
       "         -2.61886358e-01, -4.00314033e-02, -2.07278639e-01,\n",
       "          1.73526645e-01, -2.25526199e-01, -7.10127801e-02,\n",
       "         -1.90371335e-01],\n",
       "        [ 2.14997679e-01,  2.30742186e-01,  2.79015571e-01,\n",
       "          1.61724865e-01, -1.41059160e-01,  2.46583372e-01,\n",
       "          2.69118577e-01,  2.60045737e-01, -8.97815228e-02,\n",
       "         -2.00138330e-01],\n",
       "        [-6.10037595e-02, -3.20975482e-02, -9.38577205e-02,\n",
       "          1.86401188e-01,  1.39821738e-01,  2.83664972e-01,\n",
       "         -1.27807826e-01,  1.10810101e-01,  4.68121469e-02,\n",
       "         -9.94502157e-02],\n",
       "        [ 1.62796706e-01,  2.08068788e-01,  2.00160682e-01,\n",
       "          1.59106851e-02, -2.84393072e-01, -2.67611653e-01,\n",
       "         -3.36382985e-02, -1.02183089e-01,  2.80576497e-01,\n",
       "         -1.84574723e-02],\n",
       "        [-1.17984146e-01,  1.30698949e-01, -4.37323004e-02,\n",
       "         -6.08673692e-02, -2.68881023e-01, -1.68011993e-01,\n",
       "         -2.47549891e-01, -2.54217476e-01,  2.11339086e-01,\n",
       "         -1.01391032e-01],\n",
       "        [ 1.09499693e-03,  7.51499534e-02, -2.58372217e-01,\n",
       "          1.41521484e-01,  7.98357129e-02,  2.96418667e-02,\n",
       "         -2.48678684e-01,  1.31551296e-01, -1.88867256e-01,\n",
       "          1.15093499e-01],\n",
       "        [-1.41548023e-01,  1.90377861e-01,  2.54927009e-01,\n",
       "         -1.24384522e-01,  1.49550796e-01,  8.50304961e-03,\n",
       "          1.59619749e-01, -1.42384291e-01, -1.60982609e-02,\n",
       "          1.23655319e-01],\n",
       "        [ 1.52320802e-01, -4.43600714e-02,  1.19201392e-01,\n",
       "         -4.87670302e-02, -2.51108974e-01, -2.44442195e-01,\n",
       "         -9.71787870e-02,  7.29847550e-02,  1.65424824e-01,\n",
       "         -1.91626266e-01],\n",
       "        [ 1.69279009e-01, -2.05465928e-01,  8.58771503e-02,\n",
       "          1.46050036e-01,  1.49937481e-01, -7.41422623e-02,\n",
       "         -2.52355546e-01,  2.35293537e-01, -2.18851268e-01,\n",
       "         -2.67152101e-01],\n",
       "        [-2.13852942e-01, -1.94290310e-01,  1.39736205e-01,\n",
       "         -1.94909662e-01,  1.67857111e-02, -2.80107170e-01,\n",
       "          1.63097590e-01, -4.04970497e-02, -6.84166402e-02,\n",
       "         -1.12932995e-01],\n",
       "        [-2.30689630e-01, -4.74396646e-02, -6.55680150e-02,\n",
       "          2.10528404e-01,  2.39837438e-01,  4.17121947e-02,\n",
       "          2.28207797e-01, -1.39623582e-01, -2.25820571e-01,\n",
       "          2.53813565e-02],\n",
       "        [-4.78809327e-02, -4.35349494e-02, -9.57111567e-02,\n",
       "         -2.55954266e-01,  2.52589077e-01, -2.12965429e-01,\n",
       "          9.40254033e-02, -2.57149279e-01, -1.60890982e-01,\n",
       "         -1.91931292e-01],\n",
       "        [ 2.21533686e-01, -7.04754442e-02,  7.86474347e-02,\n",
       "          3.76709104e-02, -2.68903434e-01, -1.66127473e-01,\n",
       "         -2.42847204e-03,  7.28891790e-02,  4.45638895e-02,\n",
       "          1.58600062e-01],\n",
       "        [-2.35136032e-01, -2.71390706e-01, -1.81851804e-01,\n",
       "          5.29066920e-02,  1.56657487e-01, -2.96140313e-02,\n",
       "          6.65793419e-02,  2.51913965e-02, -1.44227743e-02,\n",
       "         -1.26729473e-01],\n",
       "        [-1.31389454e-01, -1.79431140e-01, -1.42746672e-01,\n",
       "          2.32853144e-01, -3.61808687e-02, -1.93383306e-01,\n",
       "          1.81199998e-01, -1.78732157e-01,  2.36561865e-01,\n",
       "         -6.84443116e-03],\n",
       "        [ 1.30929768e-01, -2.15349615e-01,  6.28361404e-02,\n",
       "         -3.71958762e-02,  2.28133947e-01, -1.62720680e-04,\n",
       "         -2.55009741e-01,  1.89532012e-01,  1.26170546e-01,\n",
       "         -2.42805257e-01],\n",
       "        [-2.53910422e-02,  1.61420792e-01, -4.57444638e-02,\n",
       "         -1.43728152e-01, -3.26353610e-02, -6.34543449e-02,\n",
       "          1.87026262e-02, -2.55044430e-01, -4.66031283e-02,\n",
       "         -7.27106929e-02],\n",
       "        [ 2.29032487e-01, -9.21670794e-02,  3.48431170e-02,\n",
       "          3.44339013e-03,  2.29534000e-01, -2.22714096e-01,\n",
       "          4.26238179e-02, -2.78840423e-01,  3.48473787e-02,\n",
       "          6.81577027e-02],\n",
       "        [ 1.65474862e-01,  2.73384959e-01,  1.37320518e-01,\n",
       "          1.92988187e-01,  1.60139799e-01,  2.62251288e-01,\n",
       "          1.57284141e-02,  2.81962425e-01, -5.01890332e-02,\n",
       "          1.06052697e-01],\n",
       "        [ 7.61816502e-02,  1.97243959e-01, -2.52397448e-01,\n",
       "          2.15706915e-01,  1.48317218e-02,  3.29637527e-02,\n",
       "         -4.42412645e-02,  2.12774307e-01, -1.06098726e-01,\n",
       "         -2.53530830e-01],\n",
       "        [ 2.27909893e-01,  2.54572719e-01,  1.43591017e-01,\n",
       "          6.45841658e-02,  1.25909865e-01, -1.09665766e-01,\n",
       "          2.25102991e-01, -3.55780870e-02,  1.64467365e-01,\n",
       "          2.68964022e-01],\n",
       "        [-5.73050231e-02, -1.06322840e-01,  7.26020038e-02,\n",
       "         -2.74893165e-01, -5.07062823e-02, -1.45447165e-01,\n",
       "         -2.38189816e-01,  8.09147954e-03,  7.62838125e-02,\n",
       "          2.14341879e-01],\n",
       "        [-4.31917012e-02, -1.14735574e-01,  6.22858405e-02,\n",
       "          5.91844320e-04, -1.45174250e-01,  5.53412735e-02,\n",
       "          1.93206996e-01,  1.75833374e-01, -8.46074969e-02,\n",
       "         -2.73112625e-01],\n",
       "        [-1.61467567e-01, -1.18751496e-01,  1.76897198e-01,\n",
       "         -9.98336524e-02, -5.67128360e-02,  1.07196152e-01,\n",
       "         -8.36987346e-02,  2.23374695e-01,  1.06368810e-01,\n",
       "         -8.87193382e-02],\n",
       "        [-2.59016901e-01,  1.51906461e-01, -2.69669086e-01,\n",
       "          1.35563135e-01, -8.47335756e-02,  1.89985454e-01,\n",
       "         -4.18199450e-02,  2.19885975e-01, -1.87306687e-01,\n",
       "          2.55906552e-01],\n",
       "        [-5.24519086e-02,  6.32733107e-03, -2.82181740e-01,\n",
       "         -1.08633935e-02,  3.02112103e-03, -2.55973846e-01,\n",
       "         -2.83522666e-01, -1.21138543e-01, -2.66116112e-01,\n",
       "         -3.90437245e-03],\n",
       "        [-1.36565447e-01, -7.34946132e-03, -2.55312651e-01,\n",
       "          1.61448121e-03, -1.61647677e-01,  1.36489153e-01,\n",
       "         -1.67765558e-01, -1.22760609e-01,  2.52205521e-01,\n",
       "          1.90561771e-01],\n",
       "        [-1.74990997e-01, -2.18216181e-01,  1.79261774e-01,\n",
       "          1.39697582e-01, -1.15487322e-01, -2.36533314e-01,\n",
       "         -7.63954967e-02,  5.64582348e-02, -8.77772421e-02,\n",
       "         -4.55527455e-02],\n",
       "        [-1.01779088e-01, -2.66501039e-01,  1.69215620e-01,\n",
       "          8.13903809e-02,  1.11448586e-01, -1.08245596e-01,\n",
       "         -5.21073788e-02, -2.18765736e-02, -6.67962581e-02,\n",
       "         -1.55278057e-01],\n",
       "        [-2.02876911e-01,  2.16192812e-01, -6.07579350e-02,\n",
       "          6.18495345e-02, -2.26462051e-01,  2.08498389e-01,\n",
       "         -1.05427310e-01, -2.24769026e-01, -6.49480522e-02,\n",
       "         -1.56482056e-01],\n",
       "        [-1.51773691e-01,  2.77007490e-01,  1.20889872e-01,\n",
       "          1.23732299e-01,  1.29176468e-01, -3.41301560e-02,\n",
       "          2.59679854e-02,  2.81862825e-01, -2.59572774e-01,\n",
       "         -1.77603170e-01],\n",
       "        [-1.61460981e-01, -2.96501517e-02,  6.96839094e-02,\n",
       "          1.45492643e-01, -3.59229594e-02,  3.84609103e-02,\n",
       "         -5.78260124e-02,  1.13253355e-01, -8.04892778e-02,\n",
       "         -2.26748064e-01]], dtype=float32)>,\n",
       " <tf.Variable 'dense_3/bias:0' shape=(10,) dtype=float32, numpy=array([0., 0., 0., 0., 0., 0., 0., 0., 0., 0.], dtype=float32)>]"
      ]
     },
     "execution_count": 3,
     "metadata": {},
     "output_type": "execute_result"
    }
   ],
   "source": [
    "model.build(input_shape=(None, 3))\n",
    "model.weights"
   ]
  },
  {
   "cell_type": "markdown",
   "metadata": {
    "colab_type": "text"
   },
   "source": [
    "**The summary method**"
   ]
  },
  {
   "cell_type": "code",
   "execution_count": 4,
   "metadata": {
    "colab_type": "code"
   },
   "outputs": [
    {
     "name": "stdout",
     "output_type": "stream",
     "text": [
      "Model: \"sequential_1\"\n",
      "_________________________________________________________________\n",
      " Layer (type)                Output Shape              Param #   \n",
      "=================================================================\n",
      " dense_2 (Dense)             (None, 64)                256       \n",
      "                                                                 \n",
      " dense_3 (Dense)             (None, 10)                650       \n",
      "                                                                 \n",
      "=================================================================\n",
      "Total params: 906\n",
      "Trainable params: 906\n",
      "Non-trainable params: 0\n",
      "_________________________________________________________________\n"
     ]
    }
   ],
   "source": [
    "model.summary()"
   ]
  },
  {
   "cell_type": "markdown",
   "metadata": {
    "colab_type": "text"
   },
   "source": [
    "**Naming models and layers with the `name` argument**"
   ]
  },
  {
   "cell_type": "code",
   "execution_count": 5,
   "metadata": {
    "colab_type": "code"
   },
   "outputs": [
    {
     "name": "stdout",
     "output_type": "stream",
     "text": [
      "Model: \"my_example_model\"\n",
      "_________________________________________________________________\n",
      " Layer (type)                Output Shape              Param #   \n",
      "=================================================================\n",
      " my_first_layer (Dense)      (None, 64)                256       \n",
      "                                                                 \n",
      " my_last_layer (Dense)       (None, 10)                650       \n",
      "                                                                 \n",
      "=================================================================\n",
      "Total params: 906\n",
      "Trainable params: 906\n",
      "Non-trainable params: 0\n",
      "_________________________________________________________________\n"
     ]
    }
   ],
   "source": [
    "model = keras.Sequential(name=\"my_example_model\")\n",
    "model.add(layers.Dense(64, activation=\"relu\", name=\"my_first_layer\"))\n",
    "model.add(layers.Dense(10, activation=\"softmax\", name=\"my_last_layer\"))\n",
    "model.build((None, 3))\n",
    "model.summary()"
   ]
  },
  {
   "cell_type": "markdown",
   "metadata": {
    "colab_type": "text"
   },
   "source": [
    "**Specifying the input shape of your model in advance**"
   ]
  },
  {
   "cell_type": "code",
   "execution_count": 6,
   "metadata": {
    "colab_type": "code"
   },
   "outputs": [],
   "source": [
    "model = keras.Sequential()\n",
    "model.add(keras.Input(shape=(3,)))\n",
    "model.add(layers.Dense(64, activation=\"relu\"))"
   ]
  },
  {
   "cell_type": "code",
   "execution_count": 7,
   "metadata": {
    "colab_type": "code"
   },
   "outputs": [
    {
     "name": "stdout",
     "output_type": "stream",
     "text": [
      "Model: \"sequential_2\"\n",
      "_________________________________________________________________\n",
      " Layer (type)                Output Shape              Param #   \n",
      "=================================================================\n",
      " dense_4 (Dense)             (None, 64)                256       \n",
      "                                                                 \n",
      "=================================================================\n",
      "Total params: 256\n",
      "Trainable params: 256\n",
      "Non-trainable params: 0\n",
      "_________________________________________________________________\n"
     ]
    }
   ],
   "source": [
    "model.summary()"
   ]
  },
  {
   "cell_type": "code",
   "execution_count": 8,
   "metadata": {
    "colab_type": "code"
   },
   "outputs": [
    {
     "name": "stdout",
     "output_type": "stream",
     "text": [
      "Model: \"sequential_2\"\n",
      "_________________________________________________________________\n",
      " Layer (type)                Output Shape              Param #   \n",
      "=================================================================\n",
      " dense_4 (Dense)             (None, 64)                256       \n",
      "                                                                 \n",
      " dense_5 (Dense)             (None, 10)                650       \n",
      "                                                                 \n",
      "=================================================================\n",
      "Total params: 906\n",
      "Trainable params: 906\n",
      "Non-trainable params: 0\n",
      "_________________________________________________________________\n"
     ]
    }
   ],
   "source": [
    "model.add(layers.Dense(10, activation=\"softmax\"))\n",
    "model.summary()"
   ]
  },
  {
   "cell_type": "markdown",
   "metadata": {
    "colab_type": "text"
   },
   "source": [
    "### The Functional API"
   ]
  },
  {
   "cell_type": "markdown",
   "metadata": {
    "colab_type": "text"
   },
   "source": [
    "#### A simple example"
   ]
  },
  {
   "cell_type": "markdown",
   "metadata": {
    "colab_type": "text"
   },
   "source": [
    "**A simple Functional model with two `Dense` layers**"
   ]
  },
  {
   "cell_type": "code",
   "execution_count": 9,
   "metadata": {
    "colab_type": "code"
   },
   "outputs": [],
   "source": [
    "inputs = keras.Input(shape=(3,), name=\"my_input\")\n",
    "features = layers.Dense(64, activation=\"relu\")(inputs)\n",
    "outputs = layers.Dense(10, activation=\"softmax\")(features)\n",
    "model = keras.Model(inputs=inputs, outputs=outputs)"
   ]
  },
  {
   "cell_type": "code",
   "execution_count": 10,
   "metadata": {
    "colab_type": "code"
   },
   "outputs": [],
   "source": [
    "inputs = keras.Input(shape=(3,), name=\"my_input\")"
   ]
  },
  {
   "cell_type": "code",
   "execution_count": 11,
   "metadata": {
    "colab_type": "code"
   },
   "outputs": [
    {
     "data": {
      "text/plain": [
       "TensorShape([None, 3])"
      ]
     },
     "execution_count": 11,
     "metadata": {},
     "output_type": "execute_result"
    }
   ],
   "source": [
    "inputs.shape"
   ]
  },
  {
   "cell_type": "code",
   "execution_count": 12,
   "metadata": {
    "colab_type": "code"
   },
   "outputs": [
    {
     "data": {
      "text/plain": [
       "tf.float32"
      ]
     },
     "execution_count": 12,
     "metadata": {},
     "output_type": "execute_result"
    }
   ],
   "source": [
    "inputs.dtype"
   ]
  },
  {
   "cell_type": "code",
   "execution_count": 13,
   "metadata": {
    "colab_type": "code"
   },
   "outputs": [],
   "source": [
    "features = layers.Dense(64, activation=\"relu\")(inputs)"
   ]
  },
  {
   "cell_type": "code",
   "execution_count": 14,
   "metadata": {
    "colab_type": "code"
   },
   "outputs": [
    {
     "data": {
      "text/plain": [
       "TensorShape([None, 64])"
      ]
     },
     "execution_count": 14,
     "metadata": {},
     "output_type": "execute_result"
    }
   ],
   "source": [
    "features.shape"
   ]
  },
  {
   "cell_type": "code",
   "execution_count": 15,
   "metadata": {
    "colab_type": "code"
   },
   "outputs": [],
   "source": [
    "outputs = layers.Dense(10, activation=\"softmax\")(features)\n",
    "model = keras.Model(inputs=inputs, outputs=outputs)"
   ]
  },
  {
   "cell_type": "code",
   "execution_count": 16,
   "metadata": {
    "colab_type": "code"
   },
   "outputs": [
    {
     "name": "stdout",
     "output_type": "stream",
     "text": [
      "Model: \"model_1\"\n",
      "_________________________________________________________________\n",
      " Layer (type)                Output Shape              Param #   \n",
      "=================================================================\n",
      " my_input (InputLayer)       [(None, 3)]               0         \n",
      "                                                                 \n",
      " dense_8 (Dense)             (None, 64)                256       \n",
      "                                                                 \n",
      " dense_9 (Dense)             (None, 10)                650       \n",
      "                                                                 \n",
      "=================================================================\n",
      "Total params: 906\n",
      "Trainable params: 906\n",
      "Non-trainable params: 0\n",
      "_________________________________________________________________\n"
     ]
    }
   ],
   "source": [
    "model.summary()"
   ]
  },
  {
   "cell_type": "markdown",
   "metadata": {
    "colab_type": "text"
   },
   "source": [
    "#### Multi-input, multi-output models"
   ]
  },
  {
   "cell_type": "markdown",
   "metadata": {
    "colab_type": "text"
   },
   "source": [
    "**A multi-input, multi-output Functional model**"
   ]
  },
  {
   "cell_type": "code",
   "execution_count": 17,
   "metadata": {
    "colab_type": "code"
   },
   "outputs": [],
   "source": [
    "vocabulary_size = 10000\n",
    "num_tags = 100\n",
    "num_departments = 4\n",
    "\n",
    "title = keras.Input(shape=(vocabulary_size,), name=\"title\")\n",
    "text_body = keras.Input(shape=(vocabulary_size,), name=\"text_body\")\n",
    "tags = keras.Input(shape=(num_tags,), name=\"tags\")\n",
    "\n",
    "features = layers.Concatenate()([title, text_body, tags])\n",
    "features = layers.Dense(64, activation=\"relu\")(features)\n",
    "\n",
    "priority = layers.Dense(1, activation=\"sigmoid\", name=\"priority\")(features)\n",
    "department = layers.Dense(\n",
    "    num_departments, activation=\"softmax\", name=\"department\")(features)\n",
    "\n",
    "model = keras.Model(inputs=[title, text_body, tags], outputs=[priority, department])"
   ]
  },
  {
   "cell_type": "markdown",
   "metadata": {
    "colab_type": "text"
   },
   "source": [
    "#### Training a multi-input, multi-output model"
   ]
  },
  {
   "cell_type": "markdown",
   "metadata": {
    "colab_type": "text"
   },
   "source": [
    "**Training a model by providing lists of input & target arrays**"
   ]
  },
  {
   "cell_type": "code",
   "execution_count": 18,
   "metadata": {
    "colab_type": "code"
   },
   "outputs": [
    {
     "name": "stdout",
     "output_type": "stream",
     "text": [
      "40/40 [==============================] - 1s 11ms/step - loss: 27.9381 - priority_loss: 0.3229 - department_loss: 27.6152 - priority_mean_absolute_error: 0.4934 - department_accuracy: 0.2883\n",
      "40/40 [==============================] - 0s 3ms/step - loss: 11.5038 - priority_loss: 0.3262 - department_loss: 11.1776 - priority_mean_absolute_error: 0.4965 - department_accuracy: 0.1180\n",
      "40/40 [==============================] - 0s 3ms/step\n"
     ]
    }
   ],
   "source": [
    "import numpy as np\n",
    "\n",
    "num_samples = 1280\n",
    "\n",
    "title_data = np.random.randint(0, 2, size=(num_samples, vocabulary_size))\n",
    "text_body_data = np.random.randint(0, 2, size=(num_samples, vocabulary_size))\n",
    "tags_data = np.random.randint(0, 2, size=(num_samples, num_tags))\n",
    "\n",
    "priority_data = np.random.random(size=(num_samples, 1))\n",
    "department_data = np.random.randint(0, 2, size=(num_samples, num_departments))\n",
    "\n",
    "model.compile(optimizer=\"rmsprop\",\n",
    "              loss=[\"mean_squared_error\", \"categorical_crossentropy\"],\n",
    "              metrics=[[\"mean_absolute_error\"], [\"accuracy\"]])\n",
    "model.fit([title_data, text_body_data, tags_data],\n",
    "          [priority_data, department_data],\n",
    "          epochs=1)\n",
    "model.evaluate([title_data, text_body_data, tags_data],\n",
    "               [priority_data, department_data])\n",
    "priority_preds, department_preds = model.predict([title_data, text_body_data, tags_data])"
   ]
  },
  {
   "cell_type": "markdown",
   "metadata": {
    "colab_type": "text"
   },
   "source": [
    "**Training a model by providing dicts of input & target arrays**"
   ]
  },
  {
   "cell_type": "code",
   "execution_count": 19,
   "metadata": {
    "colab_type": "code"
   },
   "outputs": [
    {
     "name": "stdout",
     "output_type": "stream",
     "text": [
      "40/40 [==============================] - 1s 11ms/step - loss: 34.2536 - priority_loss: 0.3262 - department_loss: 33.9275 - priority_mean_absolute_error: 0.4965 - department_accuracy: 0.2750\n",
      "40/40 [==============================] - 0s 3ms/step - loss: 35.8889 - priority_loss: 0.3262 - department_loss: 35.5627 - priority_mean_absolute_error: 0.4965 - department_accuracy: 0.0633\n",
      "40/40 [==============================] - 0s 3ms/step\n"
     ]
    }
   ],
   "source": [
    "model.compile(optimizer=\"rmsprop\",\n",
    "              loss={\"priority\": \"mean_squared_error\", \"department\": \"categorical_crossentropy\"},\n",
    "              metrics={\"priority\": [\"mean_absolute_error\"], \"department\": [\"accuracy\"]})\n",
    "model.fit({\"title\": title_data, \"text_body\": text_body_data, \"tags\": tags_data},\n",
    "          {\"priority\": priority_data, \"department\": department_data},\n",
    "          epochs=1)\n",
    "model.evaluate({\"title\": title_data, \"text_body\": text_body_data, \"tags\": tags_data},\n",
    "               {\"priority\": priority_data, \"department\": department_data})\n",
    "priority_preds, department_preds = model.predict(\n",
    "    {\"title\": title_data, \"text_body\": text_body_data, \"tags\": tags_data})"
   ]
  },
  {
   "cell_type": "markdown",
   "metadata": {
    "colab_type": "text"
   },
   "source": [
    "#### The power of the Functional API: Access to layer connectivity"
   ]
  },
  {
   "cell_type": "code",
   "execution_count": 20,
   "metadata": {
    "colab_type": "code"
   },
   "outputs": [
    {
     "data": {
      "image/png": "[encoded data removed]",
      "text/plain": [
       "<IPython.core.display.Image object>"
      ]
     },
     "execution_count": 20,
     "metadata": {},
     "output_type": "execute_result"
    }
   ],
   "source": [
    "keras.utils.plot_model(model, \"ticket_classifier.png\")"
   ]
  },
  {
   "cell_type": "code",
   "execution_count": 21,
   "metadata": {
    "colab_type": "code"
   },
   "outputs": [
    {
     "data": {
      "image/png": "[encoded data removed]",
      "text/plain": [
       "<IPython.core.display.Image object>"
      ]
     },
     "execution_count": 21,
     "metadata": {},
     "output_type": "execute_result"
    }
   ],
   "source": [
    "keras.utils.plot_model(model, \"ticket_classifier_with_shape_info.png\", show_shapes=True)"
   ]
  },
  {
   "cell_type": "markdown",
   "metadata": {
    "colab_type": "text"
   },
   "source": [
    "**Retrieving the inputs or outputs of a layer in a Functional model**"
   ]
  },
  {
   "cell_type": "code",
   "execution_count": 22,
   "metadata": {
    "colab_type": "code"
   },
   "outputs": [
    {
     "data": {
      "text/plain": [
       "[<keras.engine.input_layer.InputLayer at 0x227dd910848>,\n",
       " <keras.engine.input_layer.InputLayer at 0x227dd910908>,\n",
       " <keras.engine.input_layer.InputLayer at 0x227dd910bc8>,\n",
       " <keras.layers.merging.concatenate.Concatenate at 0x227dd903f88>,\n",
       " <keras.layers.core.dense.Dense at 0x227dd909d88>,\n",
       " <keras.layers.core.dense.Dense at 0x227dd909a08>,\n",
       " <keras.layers.core.dense.Dense at 0x227d77a1788>]"
      ]
     },
     "execution_count": 22,
     "metadata": {},
     "output_type": "execute_result"
    }
   ],
   "source": [
    "model.layers"
   ]
  },
  {
   "cell_type": "code",
   "execution_count": 23,
   "metadata": {
    "colab_type": "code"
   },
   "outputs": [
    {
     "data": {
      "text/plain": [
       "[<KerasTensor: shape=(None, 10000) dtype=float32 (created by layer 'title')>,\n",
       " <KerasTensor: shape=(None, 10000) dtype=float32 (created by layer 'text_body')>,\n",
       " <KerasTensor: shape=(None, 100) dtype=float32 (created by layer 'tags')>]"
      ]
     },
     "execution_count": 23,
     "metadata": {},
     "output_type": "execute_result"
    }
   ],
   "source": [
    "model.layers[3].input"
   ]
  },
  {
   "cell_type": "code",
   "execution_count": 24,
   "metadata": {
    "colab_type": "code"
   },
   "outputs": [
    {
     "data": {
      "text/plain": [
       "<KerasTensor: shape=(None, 20100) dtype=float32 (created by layer 'concatenate')>"
      ]
     },
     "execution_count": 24,
     "metadata": {},
     "output_type": "execute_result"
    }
   ],
   "source": [
    "model.layers[3].output"
   ]
  },
  {
   "cell_type": "markdown",
   "metadata": {
    "colab_type": "text"
   },
   "source": [
    "**Creating a new model by reusing intermediate layer outputs**"
   ]
  },
  {
   "cell_type": "code",
   "execution_count": 25,
   "metadata": {
    "colab_type": "code"
   },
   "outputs": [],
   "source": [
    "features = model.layers[4].output\n",
    "difficulty = layers.Dense(3, activation=\"softmax\", name=\"difficulty\")(features)\n",
    "\n",
    "new_model = keras.Model(\n",
    "    inputs=[title, text_body, tags],\n",
    "    outputs=[priority, department, difficulty])"
   ]
  },
  {
   "cell_type": "code",
   "execution_count": 26,
   "metadata": {
    "colab_type": "code"
   },
   "outputs": [
    {
     "data": {
      "image/png": "[encoded data removed]",
      "text/plain": [
       "<IPython.core.display.Image object>"
      ]
     },
     "execution_count": 26,
     "metadata": {},
     "output_type": "execute_result"
    }
   ],
   "source": [
    "keras.utils.plot_model(new_model, \"updated_ticket_classifier.png\", show_shapes=True)"
   ]
  },
  {
   "cell_type": "markdown",
   "metadata": {
    "colab_type": "text"
   },
   "source": [
    "### Subclassing the Model class"
   ]
  },
  {
   "cell_type": "markdown",
   "metadata": {
    "colab_type": "text"
   },
   "source": [
    "#### Rewriting our previous example as a subclassed model"
   ]
  },
  {
   "cell_type": "markdown",
   "metadata": {
    "colab_type": "text"
   },
   "source": [
    "**A simple subclassed model**"
   ]
  },
  {
   "cell_type": "code",
   "execution_count": 27,
   "metadata": {
    "colab_type": "code"
   },
   "outputs": [],
   "source": [
    "class CustomerTicketModel(keras.Model):\n",
    "\n",
    "    def __init__(self, num_departments):\n",
    "        super().__init__()\n",
    "        self.concat_layer = layers.Concatenate()\n",
    "        self.mixing_layer = layers.Dense(64, activation=\"relu\")\n",
    "        self.priority_scorer = layers.Dense(1, activation=\"sigmoid\")\n",
    "        self.department_classifier = layers.Dense(\n",
    "            num_departments, activation=\"softmax\")\n",
    "\n",
    "    def call(self, inputs):\n",
    "        title = inputs[\"title\"]\n",
    "        text_body = inputs[\"text_body\"]\n",
    "        tags = inputs[\"tags\"]\n",
    "\n",
    "        features = self.concat_layer([title, text_body, tags])\n",
    "        features = self.mixing_layer(features)\n",
    "        priority = self.priority_scorer(features)\n",
    "        department = self.department_classifier(features)\n",
    "        return priority, department"
   ]
  },
  {
   "cell_type": "code",
   "execution_count": 28,
   "metadata": {
    "colab_type": "code"
   },
   "outputs": [],
   "source": [
    "model = CustomerTicketModel(num_departments=4)\n",
    "\n",
    "priority, department = model(\n",
    "    {\"title\": title_data, \"text_body\": text_body_data, \"tags\": tags_data})"
   ]
  },
  {
   "cell_type": "code",
   "execution_count": 29,
   "metadata": {
    "colab_type": "code"
   },
   "outputs": [
    {
     "name": "stdout",
     "output_type": "stream",
     "text": [
      "40/40 [==============================] - 1s 15ms/step - loss: 19.6271 - output_1_loss: 0.3187 - output_2_loss: 19.3085 - output_1_mean_absolute_error: 0.4885 - output_2_accuracy: 0.2453\n",
      "40/40 [==============================] - 0s 4ms/step - loss: 26.0360 - output_1_loss: 0.3262 - output_2_loss: 25.7099 - output_1_mean_absolute_error: 0.4965 - output_2_accuracy: 0.1180\n",
      "40/40 [==============================] - 0s 3ms/step\n"
     ]
    }
   ],
   "source": [
    "model.compile(optimizer=\"rmsprop\",\n",
    "              loss=[\"mean_squared_error\", \"categorical_crossentropy\"],\n",
    "              metrics=[[\"mean_absolute_error\"], [\"accuracy\"]])\n",
    "model.fit({\"title\": title_data,\n",
    "           \"text_body\": text_body_data,\n",
    "           \"tags\": tags_data},\n",
    "          [priority_data, department_data],\n",
    "          epochs=1)\n",
    "model.evaluate({\"title\": title_data,\n",
    "                \"text_body\": text_body_data,\n",
    "                \"tags\": tags_data},\n",
    "               [priority_data, department_data])\n",
    "priority_preds, department_preds = model.predict({\"title\": title_data,\n",
    "                                                  \"text_body\": text_body_data,\n",
    "                                                  \"tags\": tags_data})"
   ]
  },
  {
   "cell_type": "markdown",
   "metadata": {
    "colab_type": "text"
   },
   "source": [
    "#### Beware: What subclassed models don't support"
   ]
  },
  {
   "cell_type": "markdown",
   "metadata": {
    "colab_type": "text"
   },
   "source": [
    "### Mixing and matching different components"
   ]
  },
  {
   "cell_type": "markdown",
   "metadata": {
    "colab_type": "text"
   },
   "source": [
    "**Creating a Functional model that includes a subclassed model**"
   ]
  },
  {
   "cell_type": "code",
   "execution_count": 30,
   "metadata": {
    "colab_type": "code"
   },
   "outputs": [],
   "source": [
    "class Classifier(keras.Model):\n",
    "\n",
    "    def __init__(self, num_classes=2):\n",
    "        super().__init__()\n",
    "        if num_classes == 2:\n",
    "            num_units = 1\n",
    "            activation = \"sigmoid\"\n",
    "        else:\n",
    "            num_units = num_classes\n",
    "            activation = \"softmax\"\n",
    "        self.dense = layers.Dense(num_units, activation=activation)\n",
    "\n",
    "    def call(self, inputs):\n",
    "        return self.dense(inputs)\n",
    "\n",
    "inputs = keras.Input(shape=(3,))\n",
    "features = layers.Dense(64, activation=\"relu\")(inputs)\n",
    "outputs = Classifier(num_classes=10)(features)\n",
    "model = keras.Model(inputs=inputs, outputs=outputs)"
   ]
  },
  {
   "cell_type": "markdown",
   "metadata": {
    "colab_type": "text"
   },
   "source": [
    "**Creating a subclassed model that includes a Functional model**"
   ]
  },
  {
   "cell_type": "code",
   "execution_count": 31,
   "metadata": {
    "colab_type": "code"
   },
   "outputs": [],
   "source": [
    "inputs = keras.Input(shape=(64,))\n",
    "outputs = layers.Dense(1, activation=\"sigmoid\")(inputs)\n",
    "binary_classifier = keras.Model(inputs=inputs, outputs=outputs)\n",
    "\n",
    "class MyModel(keras.Model):\n",
    "\n",
    "    def __init__(self, num_classes=2):\n",
    "        super().__init__()\n",
    "        self.dense = layers.Dense(64, activation=\"relu\")\n",
    "        self.classifier = binary_classifier\n",
    "\n",
    "    def call(self, inputs):\n",
    "        features = self.dense(inputs)\n",
    "        return self.classifier(features)\n",
    "\n",
    "model = MyModel()"
   ]
  },
  {
   "cell_type": "markdown",
   "metadata": {
    "colab_type": "text"
   },
   "source": [
    "### Remember: Use the right tool for the job"
   ]
  },
  {
   "cell_type": "markdown",
   "metadata": {
    "colab_type": "text"
   },
   "source": [
    "## Using built-in training and evaluation loops"
   ]
  },
  {
   "cell_type": "markdown",
   "metadata": {
    "colab_type": "text"
   },
   "source": [
    "**The standard workflow: `compile()`, `fit()`, `evaluate()`, `predict()`**"
   ]
  },
  {
   "cell_type": "code",
   "execution_count": 32,
   "metadata": {
    "colab_type": "code"
   },
   "outputs": [
    {
     "name": "stdout",
     "output_type": "stream",
     "text": [
      "Epoch 1/3\n",
      "1563/1563 [==============================] - 7s 4ms/step - loss: 0.2965 - accuracy: 0.9113 - val_loss: 0.1469 - val_accuracy: 0.9570\n",
      "Epoch 2/3\n",
      "1563/1563 [==============================] - 6s 4ms/step - loss: 0.1645 - accuracy: 0.9541 - val_loss: 0.1173 - val_accuracy: 0.9662\n",
      "Epoch 3/3\n",
      "1563/1563 [==============================] - 6s 4ms/step - loss: 0.1399 - accuracy: 0.9625 - val_loss: 0.1188 - val_accuracy: 0.9707\n",
      "313/313 [==============================] - 0s 1ms/step - loss: 0.1133 - accuracy: 0.9712\n",
      "313/313 [==============================] - 0s 1ms/step\n"
     ]
    }
   ],
   "source": [
    "from tensorflow.keras.datasets import mnist\n",
    "\n",
    "def get_mnist_model():\n",
    "    inputs = keras.Input(shape=(28 * 28,))\n",
    "    features = layers.Dense(512, activation=\"relu\")(inputs)\n",
    "    features = layers.Dropout(0.5)(features)\n",
    "    outputs = layers.Dense(10, activation=\"softmax\")(features)\n",
    "    model = keras.Model(inputs, outputs)\n",
    "    return model\n",
    "\n",
    "(images, labels), (test_images, test_labels) = mnist.load_data()\n",
    "images = images.reshape((60000, 28 * 28)).astype(\"float32\") / 255\n",
    "test_images = test_images.reshape((10000, 28 * 28)).astype(\"float32\") / 255\n",
    "train_images, val_images = images[10000:], images[:10000]\n",
    "train_labels, val_labels = labels[10000:], labels[:10000]\n",
    "\n",
    "model = get_mnist_model()\n",
    "model.compile(optimizer=\"rmsprop\",\n",
    "              loss=\"sparse_categorical_crossentropy\",\n",
    "              metrics=[\"accuracy\"])\n",
    "model.fit(train_images, train_labels,\n",
    "          epochs=3,\n",
    "          validation_data=(val_images, val_labels))\n",
    "test_metrics = model.evaluate(test_images, test_labels)\n",
    "predictions = model.predict(test_images)"
   ]
  },
  {
   "cell_type": "markdown",
   "metadata": {
    "colab_type": "text"
   },
   "source": [
    "### Writing your own metrics"
   ]
  },
  {
   "cell_type": "markdown",
   "metadata": {
    "colab_type": "text"
   },
   "source": [
    "**Implementing a custom metric by subclassing the `Metric` class**"
   ]
  },
  {
   "cell_type": "code",
   "execution_count": 33,
   "metadata": {
    "colab_type": "code"
   },
   "outputs": [],
   "source": [
    "import tensorflow as tf\n",
    "\n",
    "class RootMeanSquaredError(keras.metrics.Metric):\n",
    "\n",
    "    def __init__(self, name=\"rmse\", **kwargs):\n",
    "        super().__init__(name=name, **kwargs)\n",
    "        self.mse_sum = self.add_weight(name=\"mse_sum\", initializer=\"zeros\")\n",
    "        self.total_samples = self.add_weight(\n",
    "            name=\"total_samples\", initializer=\"zeros\", dtype=\"int32\")\n",
    "\n",
    "    def update_state(self, y_true, y_pred, sample_weight=None):\n",
    "        y_true = tf.one_hot(y_true, depth=tf.shape(y_pred)[1])\n",
    "        mse = tf.reduce_sum(tf.square(y_true - y_pred))\n",
    "        self.mse_sum.assign_add(mse)\n",
    "        num_samples = tf.shape(y_pred)[0]\n",
    "        self.total_samples.assign_add(num_samples)\n",
    "\n",
    "    def result(self):\n",
    "        return tf.sqrt(self.mse_sum / tf.cast(self.total_samples, tf.float32))\n",
    "\n",
    "    def reset_state(self):\n",
    "        self.mse_sum.assign(0.)\n",
    "        self.total_samples.assign(0)"
   ]
  },
  {
   "cell_type": "code",
   "execution_count": 34,
   "metadata": {
    "colab_type": "code"
   },
   "outputs": [
    {
     "name": "stdout",
     "output_type": "stream",
     "text": [
      "Epoch 1/3\n",
      "1563/1563 [==============================] - 7s 4ms/step - loss: 0.2937 - accuracy: 0.9130 - rmse: 7.1831 - val_loss: 0.1483 - val_accuracy: 0.9581 - val_rmse: 7.3713\n",
      "Epoch 2/3\n",
      "1563/1563 [==============================] - 6s 4ms/step - loss: 0.1661 - accuracy: 0.9535 - rmse: 7.3556 - val_loss: 0.1198 - val_accuracy: 0.9680 - val_rmse: 7.4053\n",
      "Epoch 3/3\n",
      "1563/1563 [==============================] - 6s 4ms/step - loss: 0.1400 - accuracy: 0.9629 - rmse: 7.3857 - val_loss: 0.1112 - val_accuracy: 0.9711 - val_rmse: 7.4195\n",
      "313/313 [==============================] - 0s 1ms/step - loss: 0.1002 - accuracy: 0.9736 - rmse: 7.4339\n"
     ]
    }
   ],
   "source": [
    "model = get_mnist_model()\n",
    "model.compile(optimizer=\"rmsprop\",\n",
    "              loss=\"sparse_categorical_crossentropy\",\n",
    "              metrics=[\"accuracy\", RootMeanSquaredError()])\n",
    "model.fit(train_images, train_labels,\n",
    "          epochs=3,\n",
    "          validation_data=(val_images, val_labels))\n",
    "test_metrics = model.evaluate(test_images, test_labels)"
   ]
  },
  {
   "cell_type": "markdown",
   "metadata": {
    "colab_type": "text"
   },
   "source": [
    "### Using callbacks"
   ]
  },
  {
   "cell_type": "markdown",
   "metadata": {
    "colab_type": "text"
   },
   "source": [
    "#### The EarlyStopping and ModelCheckpoint callbacks"
   ]
  },
  {
   "cell_type": "markdown",
   "metadata": {
    "colab_type": "text"
   },
   "source": [
    "**Using the `callbacks` argument in the `fit()` method**"
   ]
  },
  {
   "cell_type": "code",
   "execution_count": 35,
   "metadata": {
    "colab_type": "code"
   },
   "outputs": [
    {
     "name": "stdout",
     "output_type": "stream",
     "text": [
      "Epoch 1/10\n",
      "1563/1563 [==============================] - 7s 4ms/step - loss: 0.2911 - accuracy: 0.9137 - val_loss: 0.1518 - val_accuracy: 0.9576\n",
      "Epoch 2/10\n",
      "1563/1563 [==============================] - 6s 4ms/step - loss: 0.1671 - accuracy: 0.9542 - val_loss: 0.1257 - val_accuracy: 0.9675\n",
      "Epoch 3/10\n",
      "1563/1563 [==============================] - 6s 4ms/step - loss: 0.1413 - accuracy: 0.9619 - val_loss: 0.1179 - val_accuracy: 0.9714\n",
      "Epoch 4/10\n",
      "1563/1563 [==============================] - 6s 4ms/step - loss: 0.1286 - accuracy: 0.9677 - val_loss: 0.1056 - val_accuracy: 0.9748\n",
      "Epoch 5/10\n",
      "1563/1563 [==============================] - 6s 4ms/step - loss: 0.1184 - accuracy: 0.9702 - val_loss: 0.1274 - val_accuracy: 0.9720\n",
      "Epoch 6/10\n",
      "1563/1563 [==============================] - 6s 4ms/step - loss: 0.1144 - accuracy: 0.9723 - val_loss: 0.1202 - val_accuracy: 0.9748\n"
     ]
    },
    {
     "data": {
      "text/plain": [
       "<keras.callbacks.History at 0x227df67eac8>"
      ]
     },
     "execution_count": 35,
     "metadata": {},
     "output_type": "execute_result"
    }
   ],
   "source": [
    "callbacks_list = [\n",
    "    keras.callbacks.EarlyStopping(\n",
    "        monitor=\"val_accuracy\",\n",
    "        patience=2,\n",
    "    ),\n",
    "    keras.callbacks.ModelCheckpoint(\n",
    "        filepath=\"checkpoint_path.keras\",\n",
    "        monitor=\"val_loss\",\n",
    "        save_best_only=True,\n",
    "    )\n",
    "]\n",
    "model = get_mnist_model()\n",
    "model.compile(optimizer=\"rmsprop\",\n",
    "              loss=\"sparse_categorical_crossentropy\",\n",
    "              metrics=[\"accuracy\"])\n",
    "model.fit(train_images, train_labels,\n",
    "          epochs=10,\n",
    "          callbacks=callbacks_list,\n",
    "          validation_data=(val_images, val_labels))"
   ]
  },
  {
   "cell_type": "code",
   "execution_count": 36,
   "metadata": {
    "colab_type": "code"
   },
   "outputs": [],
   "source": [
    "model = keras.models.load_model(\"checkpoint_path.keras\")"
   ]
  },
  {
   "cell_type": "markdown",
   "metadata": {
    "colab_type": "text"
   },
   "source": [
    "### Writing your own callbacks"
   ]
  },
  {
   "cell_type": "markdown",
   "metadata": {
    "colab_type": "text"
   },
   "source": [
    "**Creating a custom callback by subclassing the `Callback` class**"
   ]
  },
  {
   "cell_type": "code",
   "execution_count": 37,
   "metadata": {
    "colab_type": "code"
   },
   "outputs": [],
   "source": [
    "from matplotlib import pyplot as plt\n",
    "\n",
    "class LossHistory(keras.callbacks.Callback):\n",
    "    def on_train_begin(self, logs):\n",
    "        self.per_batch_losses = []\n",
    "\n",
    "    def on_batch_end(self, batch, logs):\n",
    "        self.per_batch_losses.append(logs.get(\"loss\"))\n",
    "\n",
    "    def on_epoch_end(self, epoch, logs):\n",
    "        plt.clf()\n",
    "        plt.plot(range(len(self.per_batch_losses)), self.per_batch_losses,\n",
    "                 label=\"Training loss for each batch\")\n",
    "        plt.xlabel(f\"Batch (epoch {epoch})\")\n",
    "        plt.ylabel(\"Loss\")\n",
    "        plt.legend()\n",
    "        plt.savefig(f\"plot_at_epoch_{epoch}\")\n",
    "        self.per_batch_losses = []"
   ]
  },
  {
   "cell_type": "code",
   "execution_count": 38,
   "metadata": {
    "colab_type": "code"
   },
   "outputs": [
    {
     "name": "stdout",
     "output_type": "stream",
     "text": [
      "Epoch 1/10\n",
      "1563/1563 [==============================] - 7s 4ms/step - loss: 0.2925 - accuracy: 0.9133 - val_loss: 0.1489 - val_accuracy: 0.9566\n",
      "Epoch 2/10\n",
      "1563/1563 [==============================] - 6s 4ms/step - loss: 0.1636 - accuracy: 0.9543 - val_loss: 0.1294 - val_accuracy: 0.9655\n",
      "Epoch 3/10\n",
      "1563/1563 [==============================] - 6s 4ms/step - loss: 0.1427 - accuracy: 0.9621 - val_loss: 0.1187 - val_accuracy: 0.9702\n",
      "Epoch 4/10\n",
      "1563/1563 [==============================] - 6s 4ms/step - loss: 0.1277 - accuracy: 0.9674 - val_loss: 0.1131 - val_accuracy: 0.9732\n",
      "Epoch 5/10\n",
      "1563/1563 [==============================] - 6s 4ms/step - loss: 0.1166 - accuracy: 0.9710 - val_loss: 0.1085 - val_accuracy: 0.9736\n",
      "Epoch 6/10\n",
      "1563/1563 [==============================] - 6s 4ms/step - loss: 0.1088 - accuracy: 0.9729 - val_loss: 0.1081 - val_accuracy: 0.9772\n",
      "Epoch 7/10\n",
      "1563/1563 [==============================] - 6s 4ms/step - loss: 0.1077 - accuracy: 0.9744 - val_loss: 0.1044 - val_accuracy: 0.9783\n",
      "Epoch 8/10\n",
      "1563/1563 [==============================] - 6s 4ms/step - loss: 0.1012 - accuracy: 0.9770 - val_loss: 0.1087 - val_accuracy: 0.9773\n",
      "Epoch 9/10\n",
      "1563/1563 [==============================] - 6s 4ms/step - loss: 0.0961 - accuracy: 0.9775 - val_loss: 0.1187 - val_accuracy: 0.9775\n",
      "Epoch 10/10\n",
      "1563/1563 [==============================] - 6s 4ms/step - loss: 0.0996 - accuracy: 0.9784 - val_loss: 0.1165 - val_accuracy: 0.9793\n"
     ]
    },
    {
     "data": {
      "text/plain": [
       "<keras.callbacks.History at 0x227e7b48d88>"
      ]
     },
     "execution_count": 38,
     "metadata": {},
     "output_type": "execute_result"
    },
    {
     "data": {
      "image/png": "[encoded data removed]",
      "text/plain": [
       "<Figure size 432x288 with 1 Axes>"
      ]
     },
     "metadata": {
      "needs_background": "light"
     },
     "output_type": "display_data"
    }
   ],
   "source": [
    "model = get_mnist_model()\n",
    "model.compile(optimizer=\"rmsprop\",\n",
    "              loss=\"sparse_categorical_crossentropy\",\n",
    "              metrics=[\"accuracy\"])\n",
    "model.fit(train_images, train_labels,\n",
    "          epochs=10,\n",
    "          callbacks=[LossHistory()],\n",
    "          validation_data=(val_images, val_labels))"
   ]
  },
  {
   "cell_type": "markdown",
   "metadata": {
    "colab_type": "text"
   },
   "source": [
    "### Monitoring and visualization with TensorBoard"
   ]
  },
  {
   "cell_type": "code",
   "execution_count": 39,
   "metadata": {
    "colab_type": "code"
   },
   "outputs": [
    {
     "name": "stdout",
     "output_type": "stream",
     "text": [
      "Epoch 1/10\n",
      "1563/1563 [==============================] - 7s 4ms/step - loss: 0.2956 - accuracy: 0.9136 - val_loss: 0.1427 - val_accuracy: 0.9589\n",
      "Epoch 2/10\n",
      "1563/1563 [==============================] - 6s 4ms/step - loss: 0.1660 - accuracy: 0.9529 - val_loss: 0.1171 - val_accuracy: 0.9692\n",
      "Epoch 3/10\n",
      "1563/1563 [==============================] - 6s 4ms/step - loss: 0.1391 - accuracy: 0.9632 - val_loss: 0.1181 - val_accuracy: 0.9703\n",
      "Epoch 4/10\n",
      "1563/1563 [==============================] - 6s 4ms/step - loss: 0.1266 - accuracy: 0.9671 - val_loss: 0.1165 - val_accuracy: 0.9725\n",
      "Epoch 5/10\n",
      "1563/1563 [==============================] - 6s 4ms/step - loss: 0.1160 - accuracy: 0.9710 - val_loss: 0.1076 - val_accuracy: 0.9743\n",
      "Epoch 6/10\n",
      "1563/1563 [==============================] - 6s 4ms/step - loss: 0.1101 - accuracy: 0.9727 - val_loss: 0.1132 - val_accuracy: 0.9758\n",
      "Epoch 7/10\n",
      "1563/1563 [==============================] - 6s 4ms/step - loss: 0.1107 - accuracy: 0.9740 - val_loss: 0.1094 - val_accuracy: 0.9766\n",
      "Epoch 8/10\n",
      "1563/1563 [==============================] - 6s 4ms/step - loss: 0.1015 - accuracy: 0.9766 - val_loss: 0.1218 - val_accuracy: 0.9756\n",
      "Epoch 9/10\n",
      "1563/1563 [==============================] - 6s 4ms/step - loss: 0.0998 - accuracy: 0.9772 - val_loss: 0.1098 - val_accuracy: 0.9773\n",
      "Epoch 10/10\n",
      "1563/1563 [==============================] - 6s 4ms/step - loss: 0.0943 - accuracy: 0.9782 - val_loss: 0.1173 - val_accuracy: 0.9769\n"
     ]
    },
    {
     "data": {
      "text/plain": [
       "<keras.callbacks.History at 0x227dfa69308>"
      ]
     },
     "execution_count": 39,
     "metadata": {},
     "output_type": "execute_result"
    }
   ],
   "source": [
    "model = get_mnist_model()\n",
    "model.compile(optimizer=\"rmsprop\",\n",
    "              loss=\"sparse_categorical_crossentropy\",\n",
    "              metrics=[\"accuracy\"])\n",
    "\n",
    "tensorboard = keras.callbacks.TensorBoard(\n",
    "    log_dir=\"/full_path_to_your_log_dir\",\n",
    ")\n",
    "model.fit(train_images, train_labels,\n",
    "          epochs=10,\n",
    "          validation_data=(val_images, val_labels),\n",
    "          callbacks=[tensorboard])"
   ]
  },
  {
   "cell_type": "code",
   "execution_count": 40,
   "metadata": {
    "colab_type": "code"
   },
   "outputs": [
    {
     "data": {
      "text/html": [
       "\n",
       "      <iframe id=\"tensorboard-frame-1bf9934d318cceee\" width=\"100%\" height=\"800\" frameborder=\"0\">\n",
       "      </iframe>\n",
       "      <script>\n",
       "        (function() {\n",
       "          const frame = document.getElementById(\"tensorboard-frame-1bf9934d318cceee\");\n",
       "          const url = new URL(\"/\", window.location);\n",
       "          const port = 6006;\n",
       "          if (port) {\n",
       "            url.port = port;\n",
       "          }\n",
       "          frame.src = url;\n",
       "        })();\n",
       "      </script>\n",
       "    "
      ],
      "text/plain": [
       "<IPython.core.display.HTML object>"
      ]
     },
     "metadata": {},
     "output_type": "display_data"
    }
   ],
   "source": [
    "%load_ext tensorboard\n",
    "%tensorboard --logdir /full_path_to_your_log_dir"
   ]
  },
  {
   "cell_type": "markdown",
   "metadata": {
    "colab_type": "text"
   },
   "source": [
    "## Writing your own training and evaluation loops"
   ]
  },
  {
   "cell_type": "markdown",
   "metadata": {
    "colab_type": "text"
   },
   "source": [
    "### Training versus inference"
   ]
  },
  {
   "cell_type": "markdown",
   "metadata": {
    "colab_type": "text"
   },
   "source": [
    "### Low-level usage of metrics"
   ]
  },
  {
   "cell_type": "code",
   "execution_count": 41,
   "metadata": {
    "colab_type": "code"
   },
   "outputs": [
    {
     "name": "stdout",
     "output_type": "stream",
     "text": [
      "result: 1.00\n"
     ]
    }
   ],
   "source": [
    "metric = keras.metrics.SparseCategoricalAccuracy()\n",
    "targets = [0, 1, 2]\n",
    "predictions = [[1, 0, 0], [0, 1, 0], [0, 0, 1]]\n",
    "metric.update_state(targets, predictions)\n",
    "current_result = metric.result()\n",
    "print(f\"result: {current_result:.2f}\")"
   ]
  },
  {
   "cell_type": "code",
   "execution_count": 42,
   "metadata": {
    "colab_type": "code"
   },
   "outputs": [
    {
     "name": "stdout",
     "output_type": "stream",
     "text": [
      "Mean of values: 2.00\n"
     ]
    }
   ],
   "source": [
    "values = [0, 1, 2, 3, 4]\n",
    "mean_tracker = keras.metrics.Mean()\n",
    "for value in values:\n",
    "    mean_tracker.update_state(value)\n",
    "print(f\"Mean of values: {mean_tracker.result():.2f}\")"
   ]
  },
  {
   "cell_type": "markdown",
   "metadata": {
    "colab_type": "text"
   },
   "source": [
    "### A complete training and evaluation loop"
   ]
  },
  {
   "cell_type": "markdown",
   "metadata": {
    "colab_type": "text"
   },
   "source": [
    "**Writing a step-by-step training loop: the training step function**"
   ]
  },
  {
   "cell_type": "code",
   "execution_count": 43,
   "metadata": {
    "colab_type": "code"
   },
   "outputs": [],
   "source": [
    "model = get_mnist_model()\n",
    "\n",
    "loss_fn = keras.losses.SparseCategoricalCrossentropy()\n",
    "optimizer = keras.optimizers.RMSprop()\n",
    "metrics = [keras.metrics.SparseCategoricalAccuracy()]\n",
    "loss_tracking_metric = keras.metrics.Mean()\n",
    "\n",
    "def train_step(inputs, targets):\n",
    "    with tf.GradientTape() as tape:\n",
    "        predictions = model(inputs, training=True)\n",
    "        loss = loss_fn(targets, predictions)\n",
    "    gradients = tape.gradient(loss, model.trainable_weights)\n",
    "    optimizer.apply_gradients(zip(gradients, model.trainable_weights))\n",
    "\n",
    "    logs = {}\n",
    "    for metric in metrics:\n",
    "        metric.update_state(targets, predictions)\n",
    "        logs[metric.name] = metric.result()\n",
    "\n",
    "    loss_tracking_metric.update_state(loss)\n",
    "    logs[\"loss\"] = loss_tracking_metric.result()\n",
    "    return logs"
   ]
  },
  {
   "cell_type": "markdown",
   "metadata": {
    "colab_type": "text"
   },
   "source": [
    "**Writing a step-by-step training loop: resetting the metrics**"
   ]
  },
  {
   "cell_type": "code",
   "execution_count": 44,
   "metadata": {
    "colab_type": "code"
   },
   "outputs": [],
   "source": [
    "def reset_metrics():\n",
    "    for metric in metrics:\n",
    "        metric.reset_state()\n",
    "    loss_tracking_metric.reset_state()"
   ]
  },
  {
   "cell_type": "markdown",
   "metadata": {
    "colab_type": "text"
   },
   "source": [
    "**Writing a step-by-step training loop: the loop itself**"
   ]
  },
  {
   "cell_type": "code",
   "execution_count": 45,
   "metadata": {
    "colab_type": "code"
   },
   "outputs": [
    {
     "name": "stdout",
     "output_type": "stream",
     "text": [
      "Results at the end of epoch 0\n",
      "...sparse_categorical_accuracy: 0.9151\n",
      "...loss: 0.2922\n",
      "Results at the end of epoch 1\n",
      "...sparse_categorical_accuracy: 0.9523\n",
      "...loss: 0.1663\n",
      "Results at the end of epoch 2\n",
      "...sparse_categorical_accuracy: 0.9630\n",
      "...loss: 0.1423\n"
     ]
    }
   ],
   "source": [
    "training_dataset = tf.data.Dataset.from_tensor_slices((train_images, train_labels))\n",
    "training_dataset = training_dataset.batch(32)\n",
    "epochs = 3\n",
    "for epoch in range(epochs):\n",
    "    reset_metrics()\n",
    "    for inputs_batch, targets_batch in training_dataset:\n",
    "        logs = train_step(inputs_batch, targets_batch)\n",
    "    print(f\"Results at the end of epoch {epoch}\")\n",
    "    for key, value in logs.items():\n",
    "        print(f\"...{key}: {value:.4f}\")"
   ]
  },
  {
   "cell_type": "markdown",
   "metadata": {
    "colab_type": "text"
   },
   "source": [
    "**Writing a step-by-step evaluation loop**"
   ]
  },
  {
   "cell_type": "code",
   "execution_count": 46,
   "metadata": {
    "colab_type": "code"
   },
   "outputs": [
    {
     "name": "stdout",
     "output_type": "stream",
     "text": [
      "Evaluation results:\n",
      "...val_sparse_categorical_accuracy: 0.9636\n",
      "...val_loss: 0.1453\n"
     ]
    }
   ],
   "source": [
    "def test_step(inputs, targets):\n",
    "    predictions = model(inputs, training=False)\n",
    "    loss = loss_fn(targets, predictions)\n",
    "\n",
    "    logs = {}\n",
    "    for metric in metrics:\n",
    "        metric.update_state(targets, predictions)\n",
    "        logs[\"val_\" + metric.name] = metric.result()\n",
    "\n",
    "    loss_tracking_metric.update_state(loss)\n",
    "    logs[\"val_loss\"] = loss_tracking_metric.result()\n",
    "    return logs\n",
    "\n",
    "val_dataset = tf.data.Dataset.from_tensor_slices((val_images, val_labels))\n",
    "val_dataset = val_dataset.batch(32)\n",
    "reset_metrics()\n",
    "for inputs_batch, targets_batch in val_dataset:\n",
    "    logs = test_step(inputs_batch, targets_batch)\n",
    "print(\"Evaluation results:\")\n",
    "for key, value in logs.items():\n",
    "    print(f\"...{key}: {value:.4f}\")"
   ]
  },
  {
   "cell_type": "markdown",
   "metadata": {
    "colab_type": "text"
   },
   "source": [
    "### Make it fast with tf.function"
   ]
  },
  {
   "cell_type": "markdown",
   "metadata": {
    "colab_type": "text"
   },
   "source": [
    "**Adding a `tf.function` decorator to our evaluation-step function**"
   ]
  },
  {
   "cell_type": "code",
   "execution_count": 47,
   "metadata": {
    "colab_type": "code"
   },
   "outputs": [
    {
     "name": "stdout",
     "output_type": "stream",
     "text": [
      "Evaluation results:\n",
      "...val_sparse_categorical_accuracy: 0.9636\n",
      "...val_loss: 0.1453\n"
     ]
    }
   ],
   "source": [
    "@tf.function\n",
    "def test_step(inputs, targets):\n",
    "    predictions = model(inputs, training=False)\n",
    "    loss = loss_fn(targets, predictions)\n",
    "\n",
    "    logs = {}\n",
    "    for metric in metrics:\n",
    "        metric.update_state(targets, predictions)\n",
    "        logs[\"val_\" + metric.name] = metric.result()\n",
    "\n",
    "    loss_tracking_metric.update_state(loss)\n",
    "    logs[\"val_loss\"] = loss_tracking_metric.result()\n",
    "    return logs\n",
    "\n",
    "val_dataset = tf.data.Dataset.from_tensor_slices((val_images, val_labels))\n",
    "val_dataset = val_dataset.batch(32)\n",
    "reset_metrics()\n",
    "for inputs_batch, targets_batch in val_dataset:\n",
    "    logs = test_step(inputs_batch, targets_batch)\n",
    "print(\"Evaluation results:\")\n",
    "for key, value in logs.items():\n",
    "    print(f\"...{key}: {value:.4f}\")"
   ]
  },
  {
   "cell_type": "markdown",
   "metadata": {
    "colab_type": "text"
   },
   "source": [
    "### Leveraging fit() with a custom training loop"
   ]
  },
  {
   "cell_type": "markdown",
   "metadata": {
    "colab_type": "text"
   },
   "source": [
    "**Implementing a custom training step to use with `fit()`**"
   ]
  },
  {
   "cell_type": "code",
   "execution_count": 48,
   "metadata": {
    "colab_type": "code"
   },
   "outputs": [],
   "source": [
    "loss_fn = keras.losses.SparseCategoricalCrossentropy()\n",
    "loss_tracker = keras.metrics.Mean(name=\"loss\")\n",
    "\n",
    "class CustomModel(keras.Model):\n",
    "    def train_step(self, data):\n",
    "        inputs, targets = data\n",
    "        with tf.GradientTape() as tape:\n",
    "            predictions = self(inputs, training=True)\n",
    "            loss = loss_fn(targets, predictions)\n",
    "        gradients = tape.gradient(loss, self.trainable_weights)\n",
    "        self.optimizer.apply_gradients(zip(gradients, self.trainable_weights))\n",
    "\n",
    "        loss_tracker.update_state(loss)\n",
    "        return {\"loss\": loss_tracker.result()}\n",
    "\n",
    "    @property\n",
    "    def metrics(self):\n",
    "        return [loss_tracker]"
   ]
  },
  {
   "cell_type": "code",
   "execution_count": 49,
   "metadata": {
    "colab_type": "code"
   },
   "outputs": [
    {
     "name": "stdout",
     "output_type": "stream",
     "text": [
      "Epoch 1/3\n",
      "1563/1563 [==============================] - 6s 4ms/step - loss: 0.2973\n",
      "Epoch 2/3\n",
      "1563/1563 [==============================] - 6s 4ms/step - loss: 0.1663\n",
      "Epoch 3/3\n",
      "1563/1563 [==============================] - 6s 4ms/step - loss: 0.1430\n"
     ]
    },
    {
     "data": {
      "text/plain": [
       "<keras.callbacks.History at 0x227e791a388>"
      ]
     },
     "execution_count": 49,
     "metadata": {},
     "output_type": "execute_result"
    }
   ],
   "source": [
    "inputs = keras.Input(shape=(28 * 28,))\n",
    "features = layers.Dense(512, activation=\"relu\")(inputs)\n",
    "features = layers.Dropout(0.5)(features)\n",
    "outputs = layers.Dense(10, activation=\"softmax\")(features)\n",
    "model = CustomModel(inputs, outputs)\n",
    "\n",
    "model.compile(optimizer=keras.optimizers.RMSprop())\n",
    "model.fit(train_images, train_labels, epochs=3)"
   ]
  },
  {
   "cell_type": "code",
   "execution_count": 50,
   "metadata": {
    "colab_type": "code"
   },
   "outputs": [],
   "source": [
    "class CustomModel(keras.Model):\n",
    "    def train_step(self, data):\n",
    "        inputs, targets = data\n",
    "        with tf.GradientTape() as tape:\n",
    "            predictions = self(inputs, training=True)\n",
    "            loss = self.compiled_loss(targets, predictions)\n",
    "        gradients = tape.gradient(loss, self.trainable_weights)\n",
    "        self.optimizer.apply_gradients(zip(gradients, self.trainable_weights))\n",
    "        self.compiled_metrics.update_state(targets, predictions)\n",
    "        return {m.name: m.result() for m in self.metrics}"
   ]
  },
  {
   "cell_type": "code",
   "execution_count": 51,
   "metadata": {
    "colab_type": "code"
   },
   "outputs": [
    {
     "name": "stdout",
     "output_type": "stream",
     "text": [
      "Epoch 1/3\n",
      "1563/1563 [==============================] - 6s 4ms/step - loss: 0.2928 - sparse_categorical_accuracy: 0.9133\n",
      "Epoch 2/3\n",
      "1563/1563 [==============================] - 6s 4ms/step - loss: 0.1635 - sparse_categorical_accuracy: 0.9537\n",
      "Epoch 3/3\n",
      "1563/1563 [==============================] - 6s 4ms/step - loss: 0.1388 - sparse_categorical_accuracy: 0.9627\n"
     ]
    },
    {
     "data": {
      "text/plain": [
       "<keras.callbacks.History at 0x227df9b9888>"
      ]
     },
     "execution_count": 51,
     "metadata": {},
     "output_type": "execute_result"
    }
   ],
   "source": [
    "inputs = keras.Input(shape=(28 * 28,))\n",
    "features = layers.Dense(512, activation=\"relu\")(inputs)\n",
    "features = layers.Dropout(0.5)(features)\n",
    "outputs = layers.Dense(10, activation=\"softmax\")(features)\n",
    "model = CustomModel(inputs, outputs)\n",
    "\n",
    "model.compile(optimizer=keras.optimizers.RMSprop(),\n",
    "              loss=keras.losses.SparseCategoricalCrossentropy(),\n",
    "              metrics=[keras.metrics.SparseCategoricalAccuracy()])\n",
    "model.fit(train_images, train_labels, epochs=3)"
   ]
  },
  {
   "cell_type": "markdown",
   "metadata": {
    "colab_type": "text"
   },
   "source": [
    "## Summary"
   ]
  }
 ],
 "metadata": {
  "colab": {
   "collapsed_sections": [],
   "name": "chapter07_working-with-keras.i",
   "private_outputs": false,
   "provenance": [],
   "toc_visible": true
  },
  "kernelspec": {
   "display_name": "Python 3 (ipykernel)",
   "language": "python",
   "name": "python3"
  },
  "language_info": {
   "codemirror_mode": {
    "name": "ipython",
    "version": 3
   },
   "file_extension": ".py",
   "mimetype": "text/x-python",
   "name": "python",
   "nbconvert_exporter": "python",
   "pygments_lexer": "ipython3",
   "version": "3.7.13"
  }
 },
 "nbformat": 4,
 "nbformat_minor": 1
}
